{
  "nbformat": 4,
  "nbformat_minor": 0,
  "metadata": {
    "colab": {
      "provenance": [],
      "machine_shape": "hm",
      "gpuType": "T4",
      "authorship_tag": "ABX9TyMqJeKeElfk8Str0fBO1SFp",
      "include_colab_link": true
    },
    "kernelspec": {
      "name": "python3",
      "display_name": "Python 3"
    },
    "language_info": {
      "name": "python"
    },
    "widgets": {
      "application/vnd.jupyter.widget-state+json": {
        "b241dbefc8624328ae0231b0450fdd48": {
          "model_module": "@jupyter-widgets/controls",
          "model_name": "VBoxModel",
          "model_module_version": "1.5.0",
          "state": {
            "_dom_classes": [],
            "_model_module": "@jupyter-widgets/controls",
            "_model_module_version": "1.5.0",
            "_model_name": "VBoxModel",
            "_view_count": null,
            "_view_module": "@jupyter-widgets/controls",
            "_view_module_version": "1.5.0",
            "_view_name": "VBoxView",
            "box_style": "",
            "children": [
              "IPY_MODEL_a9acc6cc1d4644ada3711b8f783834f6"
            ],
            "layout": "IPY_MODEL_816e4405849046318380895608bcc7ce"
          }
        },
        "61f4841b240d4929b07a23f8e0c635d1": {
          "model_module": "@jupyter-widgets/controls",
          "model_name": "HTMLModel",
          "model_module_version": "1.5.0",
          "state": {
            "_dom_classes": [],
            "_model_module": "@jupyter-widgets/controls",
            "_model_module_version": "1.5.0",
            "_model_name": "HTMLModel",
            "_view_count": null,
            "_view_module": "@jupyter-widgets/controls",
            "_view_module_version": "1.5.0",
            "_view_name": "HTMLView",
            "description": "",
            "description_tooltip": null,
            "layout": "IPY_MODEL_b92ed91c713d46529f28582897b3c760",
            "placeholder": "​",
            "style": "IPY_MODEL_6e21df92aac84dd395c1f35b1de0af16",
            "value": "<center> <img\nsrc=https://www.kaggle.com/static/images/site-logo.png\nalt='Kaggle'> <br> Create an API token from <a\nhref=\"https://www.kaggle.com/settings/account\" target=\"_blank\">your Kaggle\nsettings page</a> and paste it below along with your Kaggle username. <br> </center>"
          }
        },
        "c6c98070144e4be0a77b1197a410777e": {
          "model_module": "@jupyter-widgets/controls",
          "model_name": "TextModel",
          "model_module_version": "1.5.0",
          "state": {
            "_dom_classes": [],
            "_model_module": "@jupyter-widgets/controls",
            "_model_module_version": "1.5.0",
            "_model_name": "TextModel",
            "_view_count": null,
            "_view_module": "@jupyter-widgets/controls",
            "_view_module_version": "1.5.0",
            "_view_name": "TextView",
            "continuous_update": true,
            "description": "Username:",
            "description_tooltip": null,
            "disabled": false,
            "layout": "IPY_MODEL_1874f3a33086482985e625d2c21727cf",
            "placeholder": "​",
            "style": "IPY_MODEL_6ae0bcdf77454b21b8c1bf0f00417051",
            "value": "fikrimulyanasetiawan"
          }
        },
        "4a28da6fb13a470085eb04079cda6818": {
          "model_module": "@jupyter-widgets/controls",
          "model_name": "PasswordModel",
          "model_module_version": "1.5.0",
          "state": {
            "_dom_classes": [],
            "_model_module": "@jupyter-widgets/controls",
            "_model_module_version": "1.5.0",
            "_model_name": "PasswordModel",
            "_view_count": null,
            "_view_module": "@jupyter-widgets/controls",
            "_view_module_version": "1.5.0",
            "_view_name": "PasswordView",
            "continuous_update": true,
            "description": "Token:",
            "description_tooltip": null,
            "disabled": false,
            "layout": "IPY_MODEL_d7167c47e5c6468687db067ad804dd05",
            "placeholder": "​",
            "style": "IPY_MODEL_2b85156cda004c8487fcdcf4ab9589b9",
            "value": ""
          }
        },
        "ec82d8817c654b03874d395e7f4e4ce0": {
          "model_module": "@jupyter-widgets/controls",
          "model_name": "ButtonModel",
          "model_module_version": "1.5.0",
          "state": {
            "_dom_classes": [],
            "_model_module": "@jupyter-widgets/controls",
            "_model_module_version": "1.5.0",
            "_model_name": "ButtonModel",
            "_view_count": null,
            "_view_module": "@jupyter-widgets/controls",
            "_view_module_version": "1.5.0",
            "_view_name": "ButtonView",
            "button_style": "",
            "description": "Login",
            "disabled": false,
            "icon": "",
            "layout": "IPY_MODEL_5effc86ea40c41429c5e09b7fe9df88f",
            "style": "IPY_MODEL_e3d792a5ce814c2abd42bb7c0c4c6cf1",
            "tooltip": ""
          }
        },
        "bff7c7dce1a04223b02f4108dde4e8a7": {
          "model_module": "@jupyter-widgets/controls",
          "model_name": "HTMLModel",
          "model_module_version": "1.5.0",
          "state": {
            "_dom_classes": [],
            "_model_module": "@jupyter-widgets/controls",
            "_model_module_version": "1.5.0",
            "_model_name": "HTMLModel",
            "_view_count": null,
            "_view_module": "@jupyter-widgets/controls",
            "_view_module_version": "1.5.0",
            "_view_name": "HTMLView",
            "description": "",
            "description_tooltip": null,
            "layout": "IPY_MODEL_7a7f821d3841452eac62fd2ca1d430b1",
            "placeholder": "​",
            "style": "IPY_MODEL_78da8e4469fb4b90a82ef27bee61a06a",
            "value": "\n<b>Thank You</b></center>"
          }
        },
        "816e4405849046318380895608bcc7ce": {
          "model_module": "@jupyter-widgets/base",
          "model_name": "LayoutModel",
          "model_module_version": "1.2.0",
          "state": {
            "_model_module": "@jupyter-widgets/base",
            "_model_module_version": "1.2.0",
            "_model_name": "LayoutModel",
            "_view_count": null,
            "_view_module": "@jupyter-widgets/base",
            "_view_module_version": "1.2.0",
            "_view_name": "LayoutView",
            "align_content": null,
            "align_items": "center",
            "align_self": null,
            "border": null,
            "bottom": null,
            "display": "flex",
            "flex": null,
            "flex_flow": "column",
            "grid_area": null,
            "grid_auto_columns": null,
            "grid_auto_flow": null,
            "grid_auto_rows": null,
            "grid_column": null,
            "grid_gap": null,
            "grid_row": null,
            "grid_template_areas": null,
            "grid_template_columns": null,
            "grid_template_rows": null,
            "height": null,
            "justify_content": null,
            "justify_items": null,
            "left": null,
            "margin": null,
            "max_height": null,
            "max_width": null,
            "min_height": null,
            "min_width": null,
            "object_fit": null,
            "object_position": null,
            "order": null,
            "overflow": null,
            "overflow_x": null,
            "overflow_y": null,
            "padding": null,
            "right": null,
            "top": null,
            "visibility": null,
            "width": "50%"
          }
        },
        "b92ed91c713d46529f28582897b3c760": {
          "model_module": "@jupyter-widgets/base",
          "model_name": "LayoutModel",
          "model_module_version": "1.2.0",
          "state": {
            "_model_module": "@jupyter-widgets/base",
            "_model_module_version": "1.2.0",
            "_model_name": "LayoutModel",
            "_view_count": null,
            "_view_module": "@jupyter-widgets/base",
            "_view_module_version": "1.2.0",
            "_view_name": "LayoutView",
            "align_content": null,
            "align_items": null,
            "align_self": null,
            "border": null,
            "bottom": null,
            "display": null,
            "flex": null,
            "flex_flow": null,
            "grid_area": null,
            "grid_auto_columns": null,
            "grid_auto_flow": null,
            "grid_auto_rows": null,
            "grid_column": null,
            "grid_gap": null,
            "grid_row": null,
            "grid_template_areas": null,
            "grid_template_columns": null,
            "grid_template_rows": null,
            "height": null,
            "justify_content": null,
            "justify_items": null,
            "left": null,
            "margin": null,
            "max_height": null,
            "max_width": null,
            "min_height": null,
            "min_width": null,
            "object_fit": null,
            "object_position": null,
            "order": null,
            "overflow": null,
            "overflow_x": null,
            "overflow_y": null,
            "padding": null,
            "right": null,
            "top": null,
            "visibility": null,
            "width": null
          }
        },
        "6e21df92aac84dd395c1f35b1de0af16": {
          "model_module": "@jupyter-widgets/controls",
          "model_name": "DescriptionStyleModel",
          "model_module_version": "1.5.0",
          "state": {
            "_model_module": "@jupyter-widgets/controls",
            "_model_module_version": "1.5.0",
            "_model_name": "DescriptionStyleModel",
            "_view_count": null,
            "_view_module": "@jupyter-widgets/base",
            "_view_module_version": "1.2.0",
            "_view_name": "StyleView",
            "description_width": ""
          }
        },
        "1874f3a33086482985e625d2c21727cf": {
          "model_module": "@jupyter-widgets/base",
          "model_name": "LayoutModel",
          "model_module_version": "1.2.0",
          "state": {
            "_model_module": "@jupyter-widgets/base",
            "_model_module_version": "1.2.0",
            "_model_name": "LayoutModel",
            "_view_count": null,
            "_view_module": "@jupyter-widgets/base",
            "_view_module_version": "1.2.0",
            "_view_name": "LayoutView",
            "align_content": null,
            "align_items": null,
            "align_self": null,
            "border": null,
            "bottom": null,
            "display": null,
            "flex": null,
            "flex_flow": null,
            "grid_area": null,
            "grid_auto_columns": null,
            "grid_auto_flow": null,
            "grid_auto_rows": null,
            "grid_column": null,
            "grid_gap": null,
            "grid_row": null,
            "grid_template_areas": null,
            "grid_template_columns": null,
            "grid_template_rows": null,
            "height": null,
            "justify_content": null,
            "justify_items": null,
            "left": null,
            "margin": null,
            "max_height": null,
            "max_width": null,
            "min_height": null,
            "min_width": null,
            "object_fit": null,
            "object_position": null,
            "order": null,
            "overflow": null,
            "overflow_x": null,
            "overflow_y": null,
            "padding": null,
            "right": null,
            "top": null,
            "visibility": null,
            "width": null
          }
        },
        "6ae0bcdf77454b21b8c1bf0f00417051": {
          "model_module": "@jupyter-widgets/controls",
          "model_name": "DescriptionStyleModel",
          "model_module_version": "1.5.0",
          "state": {
            "_model_module": "@jupyter-widgets/controls",
            "_model_module_version": "1.5.0",
            "_model_name": "DescriptionStyleModel",
            "_view_count": null,
            "_view_module": "@jupyter-widgets/base",
            "_view_module_version": "1.2.0",
            "_view_name": "StyleView",
            "description_width": ""
          }
        },
        "d7167c47e5c6468687db067ad804dd05": {
          "model_module": "@jupyter-widgets/base",
          "model_name": "LayoutModel",
          "model_module_version": "1.2.0",
          "state": {
            "_model_module": "@jupyter-widgets/base",
            "_model_module_version": "1.2.0",
            "_model_name": "LayoutModel",
            "_view_count": null,
            "_view_module": "@jupyter-widgets/base",
            "_view_module_version": "1.2.0",
            "_view_name": "LayoutView",
            "align_content": null,
            "align_items": null,
            "align_self": null,
            "border": null,
            "bottom": null,
            "display": null,
            "flex": null,
            "flex_flow": null,
            "grid_area": null,
            "grid_auto_columns": null,
            "grid_auto_flow": null,
            "grid_auto_rows": null,
            "grid_column": null,
            "grid_gap": null,
            "grid_row": null,
            "grid_template_areas": null,
            "grid_template_columns": null,
            "grid_template_rows": null,
            "height": null,
            "justify_content": null,
            "justify_items": null,
            "left": null,
            "margin": null,
            "max_height": null,
            "max_width": null,
            "min_height": null,
            "min_width": null,
            "object_fit": null,
            "object_position": null,
            "order": null,
            "overflow": null,
            "overflow_x": null,
            "overflow_y": null,
            "padding": null,
            "right": null,
            "top": null,
            "visibility": null,
            "width": null
          }
        },
        "2b85156cda004c8487fcdcf4ab9589b9": {
          "model_module": "@jupyter-widgets/controls",
          "model_name": "DescriptionStyleModel",
          "model_module_version": "1.5.0",
          "state": {
            "_model_module": "@jupyter-widgets/controls",
            "_model_module_version": "1.5.0",
            "_model_name": "DescriptionStyleModel",
            "_view_count": null,
            "_view_module": "@jupyter-widgets/base",
            "_view_module_version": "1.2.0",
            "_view_name": "StyleView",
            "description_width": ""
          }
        },
        "5effc86ea40c41429c5e09b7fe9df88f": {
          "model_module": "@jupyter-widgets/base",
          "model_name": "LayoutModel",
          "model_module_version": "1.2.0",
          "state": {
            "_model_module": "@jupyter-widgets/base",
            "_model_module_version": "1.2.0",
            "_model_name": "LayoutModel",
            "_view_count": null,
            "_view_module": "@jupyter-widgets/base",
            "_view_module_version": "1.2.0",
            "_view_name": "LayoutView",
            "align_content": null,
            "align_items": null,
            "align_self": null,
            "border": null,
            "bottom": null,
            "display": null,
            "flex": null,
            "flex_flow": null,
            "grid_area": null,
            "grid_auto_columns": null,
            "grid_auto_flow": null,
            "grid_auto_rows": null,
            "grid_column": null,
            "grid_gap": null,
            "grid_row": null,
            "grid_template_areas": null,
            "grid_template_columns": null,
            "grid_template_rows": null,
            "height": null,
            "justify_content": null,
            "justify_items": null,
            "left": null,
            "margin": null,
            "max_height": null,
            "max_width": null,
            "min_height": null,
            "min_width": null,
            "object_fit": null,
            "object_position": null,
            "order": null,
            "overflow": null,
            "overflow_x": null,
            "overflow_y": null,
            "padding": null,
            "right": null,
            "top": null,
            "visibility": null,
            "width": null
          }
        },
        "e3d792a5ce814c2abd42bb7c0c4c6cf1": {
          "model_module": "@jupyter-widgets/controls",
          "model_name": "ButtonStyleModel",
          "model_module_version": "1.5.0",
          "state": {
            "_model_module": "@jupyter-widgets/controls",
            "_model_module_version": "1.5.0",
            "_model_name": "ButtonStyleModel",
            "_view_count": null,
            "_view_module": "@jupyter-widgets/base",
            "_view_module_version": "1.2.0",
            "_view_name": "StyleView",
            "button_color": null,
            "font_weight": ""
          }
        },
        "7a7f821d3841452eac62fd2ca1d430b1": {
          "model_module": "@jupyter-widgets/base",
          "model_name": "LayoutModel",
          "model_module_version": "1.2.0",
          "state": {
            "_model_module": "@jupyter-widgets/base",
            "_model_module_version": "1.2.0",
            "_model_name": "LayoutModel",
            "_view_count": null,
            "_view_module": "@jupyter-widgets/base",
            "_view_module_version": "1.2.0",
            "_view_name": "LayoutView",
            "align_content": null,
            "align_items": null,
            "align_self": null,
            "border": null,
            "bottom": null,
            "display": null,
            "flex": null,
            "flex_flow": null,
            "grid_area": null,
            "grid_auto_columns": null,
            "grid_auto_flow": null,
            "grid_auto_rows": null,
            "grid_column": null,
            "grid_gap": null,
            "grid_row": null,
            "grid_template_areas": null,
            "grid_template_columns": null,
            "grid_template_rows": null,
            "height": null,
            "justify_content": null,
            "justify_items": null,
            "left": null,
            "margin": null,
            "max_height": null,
            "max_width": null,
            "min_height": null,
            "min_width": null,
            "object_fit": null,
            "object_position": null,
            "order": null,
            "overflow": null,
            "overflow_x": null,
            "overflow_y": null,
            "padding": null,
            "right": null,
            "top": null,
            "visibility": null,
            "width": null
          }
        },
        "78da8e4469fb4b90a82ef27bee61a06a": {
          "model_module": "@jupyter-widgets/controls",
          "model_name": "DescriptionStyleModel",
          "model_module_version": "1.5.0",
          "state": {
            "_model_module": "@jupyter-widgets/controls",
            "_model_module_version": "1.5.0",
            "_model_name": "DescriptionStyleModel",
            "_view_count": null,
            "_view_module": "@jupyter-widgets/base",
            "_view_module_version": "1.2.0",
            "_view_name": "StyleView",
            "description_width": ""
          }
        },
        "43adfe72ed514ed6b028025488a5c137": {
          "model_module": "@jupyter-widgets/controls",
          "model_name": "LabelModel",
          "model_module_version": "1.5.0",
          "state": {
            "_dom_classes": [],
            "_model_module": "@jupyter-widgets/controls",
            "_model_module_version": "1.5.0",
            "_model_name": "LabelModel",
            "_view_count": null,
            "_view_module": "@jupyter-widgets/controls",
            "_view_module_version": "1.5.0",
            "_view_name": "LabelView",
            "description": "",
            "description_tooltip": null,
            "layout": "IPY_MODEL_05f34d6b58c841709e7be9f782dc3e3e",
            "placeholder": "​",
            "style": "IPY_MODEL_7d66897c9e0b4c5db7342a9a8c36fef8",
            "value": "Connecting..."
          }
        },
        "05f34d6b58c841709e7be9f782dc3e3e": {
          "model_module": "@jupyter-widgets/base",
          "model_name": "LayoutModel",
          "model_module_version": "1.2.0",
          "state": {
            "_model_module": "@jupyter-widgets/base",
            "_model_module_version": "1.2.0",
            "_model_name": "LayoutModel",
            "_view_count": null,
            "_view_module": "@jupyter-widgets/base",
            "_view_module_version": "1.2.0",
            "_view_name": "LayoutView",
            "align_content": null,
            "align_items": null,
            "align_self": null,
            "border": null,
            "bottom": null,
            "display": null,
            "flex": null,
            "flex_flow": null,
            "grid_area": null,
            "grid_auto_columns": null,
            "grid_auto_flow": null,
            "grid_auto_rows": null,
            "grid_column": null,
            "grid_gap": null,
            "grid_row": null,
            "grid_template_areas": null,
            "grid_template_columns": null,
            "grid_template_rows": null,
            "height": null,
            "justify_content": null,
            "justify_items": null,
            "left": null,
            "margin": null,
            "max_height": null,
            "max_width": null,
            "min_height": null,
            "min_width": null,
            "object_fit": null,
            "object_position": null,
            "order": null,
            "overflow": null,
            "overflow_x": null,
            "overflow_y": null,
            "padding": null,
            "right": null,
            "top": null,
            "visibility": null,
            "width": null
          }
        },
        "7d66897c9e0b4c5db7342a9a8c36fef8": {
          "model_module": "@jupyter-widgets/controls",
          "model_name": "DescriptionStyleModel",
          "model_module_version": "1.5.0",
          "state": {
            "_model_module": "@jupyter-widgets/controls",
            "_model_module_version": "1.5.0",
            "_model_name": "DescriptionStyleModel",
            "_view_count": null,
            "_view_module": "@jupyter-widgets/base",
            "_view_module_version": "1.2.0",
            "_view_name": "StyleView",
            "description_width": ""
          }
        },
        "a9acc6cc1d4644ada3711b8f783834f6": {
          "model_module": "@jupyter-widgets/controls",
          "model_name": "LabelModel",
          "model_module_version": "1.5.0",
          "state": {
            "_dom_classes": [],
            "_model_module": "@jupyter-widgets/controls",
            "_model_module_version": "1.5.0",
            "_model_name": "LabelModel",
            "_view_count": null,
            "_view_module": "@jupyter-widgets/controls",
            "_view_module_version": "1.5.0",
            "_view_name": "LabelView",
            "description": "",
            "description_tooltip": null,
            "layout": "IPY_MODEL_bed4b69a6a194b689cd36c94c596a12c",
            "placeholder": "​",
            "style": "IPY_MODEL_b1ca9a0f17374c5ea1c91956217ad999",
            "value": "Kaggle credentials successfully validated."
          }
        },
        "bed4b69a6a194b689cd36c94c596a12c": {
          "model_module": "@jupyter-widgets/base",
          "model_name": "LayoutModel",
          "model_module_version": "1.2.0",
          "state": {
            "_model_module": "@jupyter-widgets/base",
            "_model_module_version": "1.2.0",
            "_model_name": "LayoutModel",
            "_view_count": null,
            "_view_module": "@jupyter-widgets/base",
            "_view_module_version": "1.2.0",
            "_view_name": "LayoutView",
            "align_content": null,
            "align_items": null,
            "align_self": null,
            "border": null,
            "bottom": null,
            "display": null,
            "flex": null,
            "flex_flow": null,
            "grid_area": null,
            "grid_auto_columns": null,
            "grid_auto_flow": null,
            "grid_auto_rows": null,
            "grid_column": null,
            "grid_gap": null,
            "grid_row": null,
            "grid_template_areas": null,
            "grid_template_columns": null,
            "grid_template_rows": null,
            "height": null,
            "justify_content": null,
            "justify_items": null,
            "left": null,
            "margin": null,
            "max_height": null,
            "max_width": null,
            "min_height": null,
            "min_width": null,
            "object_fit": null,
            "object_position": null,
            "order": null,
            "overflow": null,
            "overflow_x": null,
            "overflow_y": null,
            "padding": null,
            "right": null,
            "top": null,
            "visibility": null,
            "width": null
          }
        },
        "b1ca9a0f17374c5ea1c91956217ad999": {
          "model_module": "@jupyter-widgets/controls",
          "model_name": "DescriptionStyleModel",
          "model_module_version": "1.5.0",
          "state": {
            "_model_module": "@jupyter-widgets/controls",
            "_model_module_version": "1.5.0",
            "_model_name": "DescriptionStyleModel",
            "_view_count": null,
            "_view_module": "@jupyter-widgets/base",
            "_view_module_version": "1.2.0",
            "_view_name": "StyleView",
            "description_width": ""
          }
        }
      }
    }
  },
  "cells": [
    {
      "cell_type": "markdown",
      "metadata": {
        "id": "view-in-github",
        "colab_type": "text"
      },
      "source": [
        "<a href=\"https://colab.research.google.com/github/fikrinotes/100-days-of-code/blob/master/Final_Project_IDS_with_DNN.ipynb\" target=\"_parent\"><img src=\"https://colab.research.google.com/assets/colab-badge.svg\" alt=\"Open In Colab\"/></a>"
      ]
    },
    {
      "cell_type": "markdown",
      "source": [
        "# Intrusion Detection System"
      ],
      "metadata": {
        "id": "EGgqlIwHn2xU"
      }
    },
    {
      "cell_type": "code",
      "execution_count": 1,
      "metadata": {
        "colab": {
          "base_uri": "https://localhost:8080/",
          "height": 84,
          "referenced_widgets": [
            "b241dbefc8624328ae0231b0450fdd48",
            "61f4841b240d4929b07a23f8e0c635d1",
            "c6c98070144e4be0a77b1197a410777e",
            "4a28da6fb13a470085eb04079cda6818",
            "ec82d8817c654b03874d395e7f4e4ce0",
            "bff7c7dce1a04223b02f4108dde4e8a7",
            "816e4405849046318380895608bcc7ce",
            "b92ed91c713d46529f28582897b3c760",
            "6e21df92aac84dd395c1f35b1de0af16",
            "1874f3a33086482985e625d2c21727cf",
            "6ae0bcdf77454b21b8c1bf0f00417051",
            "d7167c47e5c6468687db067ad804dd05",
            "2b85156cda004c8487fcdcf4ab9589b9",
            "5effc86ea40c41429c5e09b7fe9df88f",
            "e3d792a5ce814c2abd42bb7c0c4c6cf1",
            "7a7f821d3841452eac62fd2ca1d430b1",
            "78da8e4469fb4b90a82ef27bee61a06a",
            "43adfe72ed514ed6b028025488a5c137",
            "05f34d6b58c841709e7be9f782dc3e3e",
            "7d66897c9e0b4c5db7342a9a8c36fef8",
            "a9acc6cc1d4644ada3711b8f783834f6",
            "bed4b69a6a194b689cd36c94c596a12c",
            "b1ca9a0f17374c5ea1c91956217ad999"
          ]
        },
        "id": "gnbakZ32nkWE",
        "outputId": "ae88e693-1cca-44b8-a23c-df3315c839a2"
      },
      "outputs": [
        {
          "output_type": "display_data",
          "data": {
            "text/plain": [
              "VBox(children=(HTML(value='<center> <img\\nsrc=https://www.kaggle.com/static/images/site-logo.png\\nalt=\\'Kaggle…"
            ],
            "application/vnd.jupyter.widget-view+json": {
              "version_major": 2,
              "version_minor": 0,
              "model_id": "b241dbefc8624328ae0231b0450fdd48"
            }
          },
          "metadata": {}
        },
        {
          "output_type": "stream",
          "name": "stdout",
          "text": [
            "Kaggle credentials set.\n",
            "Kaggle credentials successfully validated.\n"
          ]
        }
      ],
      "source": [
        "# IMPORTANT: SOME KAGGLE DATA SOURCES ARE PRIVATE\n",
        "# RUN THIS CELL IN ORDER TO IMPORT YOUR KAGGLE DATA SOURCES.\n",
        "import kagglehub\n",
        "kagglehub.login()"
      ]
    },
    {
      "cell_type": "code",
      "source": [
        "# IMPORTANT: RUN THIS CELL IN ORDER TO IMPORT YOUR KAGGLE DATA SOURCES,\n",
        "# THEN FEEL FREE TO DELETE THIS CELL.\n",
        "# NOTE: THIS NOTEBOOK ENVIRONMENT DIFFERS FROM KAGGLE'S PYTHON\n",
        "# ENVIRONMENT SO THERE MAY BE MISSING LIBRARIES USED BY YOUR\n",
        "# NOTEBOOK.\n",
        "\n",
        "dataset_path = kagglehub.dataset_download('chethuhn/network-intrusion-dataset')\n",
        "\n",
        "print('Data source import complete. \\n')\n",
        "print(\"Information about your data sources:\")\n",
        "print(f\"Dataset path: {dataset_path}\")"
      ],
      "metadata": {
        "colab": {
          "base_uri": "https://localhost:8080/"
        },
        "id": "bZyF-TPhnxaS",
        "outputId": "ffc9f79c-790c-4092-e7e2-829905eadc9b"
      },
      "execution_count": 2,
      "outputs": [
        {
          "output_type": "stream",
          "name": "stdout",
          "text": [
            "Data source import complete. \n",
            "\n",
            "Information about your data sources:\n",
            "Dataset path: /kaggle/input/network-intrusion-dataset\n"
          ]
        }
      ]
    },
    {
      "cell_type": "markdown",
      "source": [
        "## Import Library"
      ],
      "metadata": {
        "id": "LeCQLun5rhjC"
      }
    },
    {
      "cell_type": "code",
      "source": [
        "# Import library yang diperlukan\n",
        "import pandas as pd\n",
        "import numpy as np\n",
        "import os\n",
        "from sklearn.model_selection import train_test_split, TimeSeriesSplit\n",
        "from sklearn.preprocessing import StandardScaler, LabelEncoder, MinMaxScaler\n",
        "from sklearn.impute import SimpleImputer\n",
        "import tensorflow as tf\n",
        "from tensorflow.keras import layers, Model\n",
        "import matplotlib.pyplot as plt\n",
        "from sklearn.metrics import classification_report, confusion_matrix\n",
        "import seaborn as sns"
      ],
      "metadata": {
        "id": "aZdHFZkkn-do"
      },
      "execution_count": 3,
      "outputs": []
    },
    {
      "cell_type": "markdown",
      "source": [
        "## Preprocessing Data"
      ],
      "metadata": {
        "id": "nyqzCzTvrpm9"
      }
    },
    {
      "cell_type": "markdown",
      "source": [
        "### Load Data"
      ],
      "metadata": {
        "id": "wk3vu6IKoSzj"
      }
    },
    {
      "cell_type": "code",
      "source": [
        "# Fungsi untuk membaca dan preprocessing setiap file\n",
        "def read_and_clean_file(file_path):\n",
        "    print(f\"Membaca file: {file_path}\")\n",
        "    df = pd.read_csv(file_path, low_memory=False, sep=\",\")\n",
        "\n",
        "    # Bersihkan nama kolom dari whitespace\n",
        "    df.columns = df.columns.str.strip()\n",
        "\n",
        "    # Hapus kolom yang tidak diperlukan\n",
        "    redundant_column = ['Destination Port']\n",
        "    df = df.drop(redundant_column, axis=1)\n",
        "\n",
        "    # drop baris yang tidak punya label\n",
        "    df.dropna(subset = ['Label'], inplace=True)\n",
        "\n",
        "    # Handling missing values dan infinite values\n",
        "    df = df.replace([np.inf, -np.inf], np.nan)\n",
        "\n",
        "    return df\n",
        "\n",
        "\n",
        "# Baca semua file CSV dari folder\n",
        "data1 = dataset_path + \"/Monday-WorkingHours.pcap_ISCX.csv\"\n",
        "data2 = dataset_path + \"/Tuesday-WorkingHours.pcap_ISCX.csv\"\n",
        "data3 = dataset_path + \"/Wednesday-workingHours.pcap_ISCX.csv\"\n",
        "data4 = dataset_path + \"/Thursday-WorkingHours-Morning-WebAttacks.pcap_ISCX.csv\"\n",
        "data5 = dataset_path + \"/Thursday-WorkingHours-Afternoon-Infilteration.pcap_ISCX.csv\"\n",
        "data6 = dataset_path + \"/Friday-WorkingHours-Morning.pcap_ISCX.csv\"\n",
        "data7 = dataset_path + \"/Friday-WorkingHours-Afternoon-PortScan.pcap_ISCX.csv\"\n",
        "data8 = dataset_path + \"/Friday-WorkingHours-Afternoon-DDos.pcap_ISCX.csv\"\n",
        "\n",
        "\n",
        "# Buat list semua dataset yang tersedia\n",
        "all_files = [data2, data3, data4, data5, data6, data7, data8]\n",
        "\n",
        "# Membaca file dan mengkonversi semua data file dari list \"all_files\" menjadi dataframe\n",
        "dataframes = []\n",
        "for file in all_files:\n",
        "    df = read_and_clean_file(file)\n",
        "    dataframes.append(df)\n",
        "    del df\n",
        "\n",
        "# Menggabungkan semua dataframe\n",
        "print(\"Menggabungkan semua file...\")\n",
        "df = pd.concat(dataframes, ignore_index=True)\n",
        "try:\n",
        "    print(\"Semua file dataset berhasil digabungkan!\")\n",
        "except:\n",
        "    print(\"Error! file dataset tidak berhasil digabungkan\")"
      ],
      "metadata": {
        "colab": {
          "base_uri": "https://localhost:8080/"
        },
        "id": "KTc1HqxloQnr",
        "outputId": "dc3f7e13-7c1d-407c-91dd-6ed1377b5683"
      },
      "execution_count": 4,
      "outputs": [
        {
          "output_type": "stream",
          "name": "stdout",
          "text": [
            "Membaca file: /kaggle/input/network-intrusion-dataset/Tuesday-WorkingHours.pcap_ISCX.csv\n",
            "Membaca file: /kaggle/input/network-intrusion-dataset/Wednesday-workingHours.pcap_ISCX.csv\n",
            "Membaca file: /kaggle/input/network-intrusion-dataset/Thursday-WorkingHours-Morning-WebAttacks.pcap_ISCX.csv\n",
            "Membaca file: /kaggle/input/network-intrusion-dataset/Thursday-WorkingHours-Afternoon-Infilteration.pcap_ISCX.csv\n",
            "Membaca file: /kaggle/input/network-intrusion-dataset/Friday-WorkingHours-Morning.pcap_ISCX.csv\n",
            "Membaca file: /kaggle/input/network-intrusion-dataset/Friday-WorkingHours-Afternoon-PortScan.pcap_ISCX.csv\n",
            "Membaca file: /kaggle/input/network-intrusion-dataset/Friday-WorkingHours-Afternoon-DDos.pcap_ISCX.csv\n",
            "Menggabungkan semua file...\n",
            "Semua file dataset berhasil digabungkan!\n"
          ]
        }
      ]
    },
    {
      "cell_type": "markdown",
      "source": [
        "### Pembersihan Data Duplikat"
      ],
      "metadata": {
        "id": "ur4rS_DUqYai"
      }
    },
    {
      "cell_type": "code",
      "source": [
        "# ganti nama kolom dengan cara hapus whitespaces\n",
        "col_names = {col: col.strip() for col in df.columns}\n",
        "df.rename(columns = col_names, inplace = True)\n",
        "\n",
        "# informasi data duplikat\n",
        "dups = df[df.duplicated()]\n",
        "print(f'Banyak data duplikat : {len(dups)}')\n",
        "print(f'Banyak data sebelum duplikat : {df.shape[0]}')\n",
        "\n",
        "print(\"menghapus data duplikat...\")\n",
        "\n",
        "# Hapus data duplikat\n",
        "df.drop_duplicates(inplace = True)\n",
        "print(\"data duplikat selesai dihapus!\")\n",
        "df.shape\n",
        "print(f\"banyak data setelah data duplikat dihapus : {df.shape[0]}\")"
      ],
      "metadata": {
        "colab": {
          "base_uri": "https://localhost:8080/"
        },
        "id": "H5UQZFmxqbP9",
        "outputId": "4a1d8bfe-88c9-4577-b53a-f79624059caf"
      },
      "execution_count": 5,
      "outputs": [
        {
          "output_type": "stream",
          "name": "stdout",
          "text": [
            "Banyak data duplikat : 524101\n",
            "Banyak data sebelum duplikat : 2300825\n",
            "menghapus data duplikat...\n",
            "data duplikat selesai dihapus!\n",
            "banyak data setelah data duplikat dihapus : 1776724\n"
          ]
        }
      ]
    },
    {
      "cell_type": "markdown",
      "source": [
        "### Persiapan Label Kelas untuk Klasifikasi Biner"
      ],
      "metadata": {
        "id": "Ne2ZgkqzqeeV"
      }
    },
    {
      "cell_type": "code",
      "source": [
        "# konversi semua label selain BENIGN jadi ATTACK\n",
        "df[\"Label\"] = df[\"Label\"].where(df[\"Label\"] == \"BENIGN\", \"ATTACK\")\n",
        "print(\"Informasi Kelas : \")\n",
        "df[\"Label\"].unique()"
      ],
      "metadata": {
        "colab": {
          "base_uri": "https://localhost:8080/"
        },
        "id": "skfFgn8Fqd60",
        "outputId": "f989941f-3c7d-4855-8a07-4147cff0c113"
      },
      "execution_count": 6,
      "outputs": [
        {
          "output_type": "stream",
          "name": "stdout",
          "text": [
            "Informasi Kelas : \n"
          ]
        },
        {
          "output_type": "execute_result",
          "data": {
            "text/plain": [
              "array(['BENIGN', 'ATTACK'], dtype=object)"
            ]
          },
          "metadata": {},
          "execution_count": 6
        }
      ]
    },
    {
      "cell_type": "markdown",
      "source": [
        "## Informasi Umum Dataset"
      ],
      "metadata": {
        "id": "V9-cRvjir4uu"
      }
    },
    {
      "cell_type": "code",
      "source": [
        "# Menampilkan informasi dataset\n",
        "print(\"\\nInformasi Dataset:\")\n",
        "print(f\"\\nJumlah total data: {len(df)}\")\n",
        "print(f\"Jumlah fitur : {len(df.columns)}\")\n",
        "print(\"\\nDistribusi Label sebelum preprocessing:\")\n",
        "\n",
        "# tabel distribusi label\n",
        "def create_distribution_table(df):\n",
        "    label_dist = pd.DataFrame(df['Label'].value_counts())\n",
        "    label_dist['percentage'] = df['Label'].value_counts()/len(df)\n",
        "    return label_dist\n",
        "\n",
        "create_distribution_table(df)"
      ],
      "metadata": {
        "colab": {
          "base_uri": "https://localhost:8080/",
          "height": 265
        },
        "id": "GzzBo4mUr2Ta",
        "outputId": "366b3829-34eb-45f9-860b-cb516659b939"
      },
      "execution_count": 7,
      "outputs": [
        {
          "output_type": "stream",
          "name": "stdout",
          "text": [
            "\n",
            "Informasi Dataset:\n",
            "\n",
            "Jumlah total data: 1776724\n",
            "Jumlah fitur : 78\n",
            "\n",
            "Distribusi Label sebelum preprocessing:\n"
          ]
        },
        {
          "output_type": "execute_result",
          "data": {
            "text/plain": [
              "          count  percentage\n",
              "Label                      \n",
              "BENIGN  1440219    0.810604\n",
              "ATTACK   336505    0.189396"
            ],
            "text/html": [
              "\n",
              "  <div id=\"df-0198af2b-5b8d-49ab-805d-4c972d8a46c6\" class=\"colab-df-container\">\n",
              "    <div>\n",
              "<style scoped>\n",
              "    .dataframe tbody tr th:only-of-type {\n",
              "        vertical-align: middle;\n",
              "    }\n",
              "\n",
              "    .dataframe tbody tr th {\n",
              "        vertical-align: top;\n",
              "    }\n",
              "\n",
              "    .dataframe thead th {\n",
              "        text-align: right;\n",
              "    }\n",
              "</style>\n",
              "<table border=\"1\" class=\"dataframe\">\n",
              "  <thead>\n",
              "    <tr style=\"text-align: right;\">\n",
              "      <th></th>\n",
              "      <th>count</th>\n",
              "      <th>percentage</th>\n",
              "    </tr>\n",
              "    <tr>\n",
              "      <th>Label</th>\n",
              "      <th></th>\n",
              "      <th></th>\n",
              "    </tr>\n",
              "  </thead>\n",
              "  <tbody>\n",
              "    <tr>\n",
              "      <th>BENIGN</th>\n",
              "      <td>1440219</td>\n",
              "      <td>0.810604</td>\n",
              "    </tr>\n",
              "    <tr>\n",
              "      <th>ATTACK</th>\n",
              "      <td>336505</td>\n",
              "      <td>0.189396</td>\n",
              "    </tr>\n",
              "  </tbody>\n",
              "</table>\n",
              "</div>\n",
              "    <div class=\"colab-df-buttons\">\n",
              "\n",
              "  <div class=\"colab-df-container\">\n",
              "    <button class=\"colab-df-convert\" onclick=\"convertToInteractive('df-0198af2b-5b8d-49ab-805d-4c972d8a46c6')\"\n",
              "            title=\"Convert this dataframe to an interactive table.\"\n",
              "            style=\"display:none;\">\n",
              "\n",
              "  <svg xmlns=\"http://www.w3.org/2000/svg\" height=\"24px\" viewBox=\"0 -960 960 960\">\n",
              "    <path d=\"M120-120v-720h720v720H120Zm60-500h600v-160H180v160Zm220 220h160v-160H400v160Zm0 220h160v-160H400v160ZM180-400h160v-160H180v160Zm440 0h160v-160H620v160ZM180-180h160v-160H180v160Zm440 0h160v-160H620v160Z\"/>\n",
              "  </svg>\n",
              "    </button>\n",
              "\n",
              "  <style>\n",
              "    .colab-df-container {\n",
              "      display:flex;\n",
              "      gap: 12px;\n",
              "    }\n",
              "\n",
              "    .colab-df-convert {\n",
              "      background-color: #E8F0FE;\n",
              "      border: none;\n",
              "      border-radius: 50%;\n",
              "      cursor: pointer;\n",
              "      display: none;\n",
              "      fill: #1967D2;\n",
              "      height: 32px;\n",
              "      padding: 0 0 0 0;\n",
              "      width: 32px;\n",
              "    }\n",
              "\n",
              "    .colab-df-convert:hover {\n",
              "      background-color: #E2EBFA;\n",
              "      box-shadow: 0px 1px 2px rgba(60, 64, 67, 0.3), 0px 1px 3px 1px rgba(60, 64, 67, 0.15);\n",
              "      fill: #174EA6;\n",
              "    }\n",
              "\n",
              "    .colab-df-buttons div {\n",
              "      margin-bottom: 4px;\n",
              "    }\n",
              "\n",
              "    [theme=dark] .colab-df-convert {\n",
              "      background-color: #3B4455;\n",
              "      fill: #D2E3FC;\n",
              "    }\n",
              "\n",
              "    [theme=dark] .colab-df-convert:hover {\n",
              "      background-color: #434B5C;\n",
              "      box-shadow: 0px 1px 3px 1px rgba(0, 0, 0, 0.15);\n",
              "      filter: drop-shadow(0px 1px 2px rgba(0, 0, 0, 0.3));\n",
              "      fill: #FFFFFF;\n",
              "    }\n",
              "  </style>\n",
              "\n",
              "    <script>\n",
              "      const buttonEl =\n",
              "        document.querySelector('#df-0198af2b-5b8d-49ab-805d-4c972d8a46c6 button.colab-df-convert');\n",
              "      buttonEl.style.display =\n",
              "        google.colab.kernel.accessAllowed ? 'block' : 'none';\n",
              "\n",
              "      async function convertToInteractive(key) {\n",
              "        const element = document.querySelector('#df-0198af2b-5b8d-49ab-805d-4c972d8a46c6');\n",
              "        const dataTable =\n",
              "          await google.colab.kernel.invokeFunction('convertToInteractive',\n",
              "                                                    [key], {});\n",
              "        if (!dataTable) return;\n",
              "\n",
              "        const docLinkHtml = 'Like what you see? Visit the ' +\n",
              "          '<a target=\"_blank\" href=https://colab.research.google.com/notebooks/data_table.ipynb>data table notebook</a>'\n",
              "          + ' to learn more about interactive tables.';\n",
              "        element.innerHTML = '';\n",
              "        dataTable['output_type'] = 'display_data';\n",
              "        await google.colab.output.renderOutput(dataTable, element);\n",
              "        const docLink = document.createElement('div');\n",
              "        docLink.innerHTML = docLinkHtml;\n",
              "        element.appendChild(docLink);\n",
              "      }\n",
              "    </script>\n",
              "  </div>\n",
              "\n",
              "\n",
              "    <div id=\"df-e708ad1b-449a-455b-86af-f5e64d7d314e\">\n",
              "      <button class=\"colab-df-quickchart\" onclick=\"quickchart('df-e708ad1b-449a-455b-86af-f5e64d7d314e')\"\n",
              "                title=\"Suggest charts\"\n",
              "                style=\"display:none;\">\n",
              "\n",
              "<svg xmlns=\"http://www.w3.org/2000/svg\" height=\"24px\"viewBox=\"0 0 24 24\"\n",
              "     width=\"24px\">\n",
              "    <g>\n",
              "        <path d=\"M19 3H5c-1.1 0-2 .9-2 2v14c0 1.1.9 2 2 2h14c1.1 0 2-.9 2-2V5c0-1.1-.9-2-2-2zM9 17H7v-7h2v7zm4 0h-2V7h2v10zm4 0h-2v-4h2v4z\"/>\n",
              "    </g>\n",
              "</svg>\n",
              "      </button>\n",
              "\n",
              "<style>\n",
              "  .colab-df-quickchart {\n",
              "      --bg-color: #E8F0FE;\n",
              "      --fill-color: #1967D2;\n",
              "      --hover-bg-color: #E2EBFA;\n",
              "      --hover-fill-color: #174EA6;\n",
              "      --disabled-fill-color: #AAA;\n",
              "      --disabled-bg-color: #DDD;\n",
              "  }\n",
              "\n",
              "  [theme=dark] .colab-df-quickchart {\n",
              "      --bg-color: #3B4455;\n",
              "      --fill-color: #D2E3FC;\n",
              "      --hover-bg-color: #434B5C;\n",
              "      --hover-fill-color: #FFFFFF;\n",
              "      --disabled-bg-color: #3B4455;\n",
              "      --disabled-fill-color: #666;\n",
              "  }\n",
              "\n",
              "  .colab-df-quickchart {\n",
              "    background-color: var(--bg-color);\n",
              "    border: none;\n",
              "    border-radius: 50%;\n",
              "    cursor: pointer;\n",
              "    display: none;\n",
              "    fill: var(--fill-color);\n",
              "    height: 32px;\n",
              "    padding: 0;\n",
              "    width: 32px;\n",
              "  }\n",
              "\n",
              "  .colab-df-quickchart:hover {\n",
              "    background-color: var(--hover-bg-color);\n",
              "    box-shadow: 0 1px 2px rgba(60, 64, 67, 0.3), 0 1px 3px 1px rgba(60, 64, 67, 0.15);\n",
              "    fill: var(--button-hover-fill-color);\n",
              "  }\n",
              "\n",
              "  .colab-df-quickchart-complete:disabled,\n",
              "  .colab-df-quickchart-complete:disabled:hover {\n",
              "    background-color: var(--disabled-bg-color);\n",
              "    fill: var(--disabled-fill-color);\n",
              "    box-shadow: none;\n",
              "  }\n",
              "\n",
              "  .colab-df-spinner {\n",
              "    border: 2px solid var(--fill-color);\n",
              "    border-color: transparent;\n",
              "    border-bottom-color: var(--fill-color);\n",
              "    animation:\n",
              "      spin 1s steps(1) infinite;\n",
              "  }\n",
              "\n",
              "  @keyframes spin {\n",
              "    0% {\n",
              "      border-color: transparent;\n",
              "      border-bottom-color: var(--fill-color);\n",
              "      border-left-color: var(--fill-color);\n",
              "    }\n",
              "    20% {\n",
              "      border-color: transparent;\n",
              "      border-left-color: var(--fill-color);\n",
              "      border-top-color: var(--fill-color);\n",
              "    }\n",
              "    30% {\n",
              "      border-color: transparent;\n",
              "      border-left-color: var(--fill-color);\n",
              "      border-top-color: var(--fill-color);\n",
              "      border-right-color: var(--fill-color);\n",
              "    }\n",
              "    40% {\n",
              "      border-color: transparent;\n",
              "      border-right-color: var(--fill-color);\n",
              "      border-top-color: var(--fill-color);\n",
              "    }\n",
              "    60% {\n",
              "      border-color: transparent;\n",
              "      border-right-color: var(--fill-color);\n",
              "    }\n",
              "    80% {\n",
              "      border-color: transparent;\n",
              "      border-right-color: var(--fill-color);\n",
              "      border-bottom-color: var(--fill-color);\n",
              "    }\n",
              "    90% {\n",
              "      border-color: transparent;\n",
              "      border-bottom-color: var(--fill-color);\n",
              "    }\n",
              "  }\n",
              "</style>\n",
              "\n",
              "      <script>\n",
              "        async function quickchart(key) {\n",
              "          const quickchartButtonEl =\n",
              "            document.querySelector('#' + key + ' button');\n",
              "          quickchartButtonEl.disabled = true;  // To prevent multiple clicks.\n",
              "          quickchartButtonEl.classList.add('colab-df-spinner');\n",
              "          try {\n",
              "            const charts = await google.colab.kernel.invokeFunction(\n",
              "                'suggestCharts', [key], {});\n",
              "          } catch (error) {\n",
              "            console.error('Error during call to suggestCharts:', error);\n",
              "          }\n",
              "          quickchartButtonEl.classList.remove('colab-df-spinner');\n",
              "          quickchartButtonEl.classList.add('colab-df-quickchart-complete');\n",
              "        }\n",
              "        (() => {\n",
              "          let quickchartButtonEl =\n",
              "            document.querySelector('#df-e708ad1b-449a-455b-86af-f5e64d7d314e button');\n",
              "          quickchartButtonEl.style.display =\n",
              "            google.colab.kernel.accessAllowed ? 'block' : 'none';\n",
              "        })();\n",
              "      </script>\n",
              "    </div>\n",
              "\n",
              "    </div>\n",
              "  </div>\n"
            ],
            "application/vnd.google.colaboratory.intrinsic+json": {
              "type": "dataframe",
              "summary": "{\n  \"name\": \"create_distribution_table(df)\",\n  \"rows\": 2,\n  \"fields\": [\n    {\n      \"column\": \"Label\",\n      \"properties\": {\n        \"dtype\": \"string\",\n        \"num_unique_values\": 2,\n        \"samples\": [\n          \"ATTACK\",\n          \"BENIGN\"\n        ],\n        \"semantic_type\": \"\",\n        \"description\": \"\"\n      }\n    },\n    {\n      \"column\": \"count\",\n      \"properties\": {\n        \"dtype\": \"number\",\n        \"std\": 780443,\n        \"min\": 336505,\n        \"max\": 1440219,\n        \"num_unique_values\": 2,\n        \"samples\": [\n          336505,\n          1440219\n        ],\n        \"semantic_type\": \"\",\n        \"description\": \"\"\n      }\n    },\n    {\n      \"column\": \"percentage\",\n      \"properties\": {\n        \"dtype\": \"number\",\n        \"std\": 0.43925992663493546,\n        \"min\": 0.18939632717293176,\n        \"max\": 0.8106036728270682,\n        \"num_unique_values\": 2,\n        \"samples\": [\n          0.18939632717293176,\n          0.8106036728270682\n        ],\n        \"semantic_type\": \"\",\n        \"description\": \"\"\n      }\n    }\n  ]\n}"
            }
          },
          "metadata": {},
          "execution_count": 7
        }
      ]
    },
    {
      "cell_type": "markdown",
      "source": [
        "## Pemisahan Data Fitur (X) dan Output (y)"
      ],
      "metadata": {
        "id": "KxR_kv44sJBb"
      }
    },
    {
      "cell_type": "code",
      "source": [
        "numerical_columns = df.select_dtypes(include=[np.number]).columns\n",
        "X = df[numerical_columns]\n",
        "y = df[\"Label\"]\n",
        "print(f\"jumlah fitur : {len(X.columns)}\")\n",
        "print(f\"jumlah label : {len(y.unique())}\")"
      ],
      "metadata": {
        "colab": {
          "base_uri": "https://localhost:8080/"
        },
        "id": "OwwqNj9rsOQm",
        "outputId": "7354734b-3d0a-4d73-cd9f-d37676b0c31f"
      },
      "execution_count": 8,
      "outputs": [
        {
          "output_type": "stream",
          "name": "stdout",
          "text": [
            "jumlah fitur : 77\n",
            "jumlah label : 2\n"
          ]
        }
      ]
    },
    {
      "cell_type": "code",
      "source": [
        "\n",
        "# Memisahkan data menjadi training, validation, dan testing dengan stratify\n",
        "# Menggunakan train_test_split dua kali: pertama untuk memisahkan training dan temp (validation + test),\n",
        "# kemudian temp dipisah menjadi validation dan test\n",
        "\n",
        "# Pertama, pisahkan data menjadi training dan temporary (untuk validation dan test)\n",
        "X_train, X_temp, y_train, y_temp = train_test_split(X, y, test_size=0.3, random_state=42, stratify=y)\n",
        "\n",
        "# Kedua, pisahkan temporary menjadi validation dan testing\n",
        "# Ukuran test_size=0.5 berarti membagi temporary set (30% dari data asli) menjadi dua bagian yang sama besar (15% validation dan 15% test dari data asli)\n",
        "X_val, X_test, y_val, y_test = train_test_split(X_temp, y_temp, test_size=0.5, random_state=42, stratify=y_temp)\n",
        "\n",
        "print(f\"Ukuran data training (X_train, y_train): {X_train.shape}, {y_train.shape}\")\n",
        "print(f\"Ukuran data validation (X_val, y_val): {X_val.shape}, {y_val.shape}\")\n",
        "print(f\"Ukuran data testing (X_test, y_test): {X_test.shape}, {y_test.shape}\")\n",
        "\n",
        "# Memeriksa distribusi label di setiap set\n",
        "print(\"\\nDistribusi Label pada Training Set:\")\n",
        "print(y_train.value_counts(normalize=True))\n",
        "\n",
        "print(\"\\nDistribusi Label pada Validation Set:\")\n",
        "print(y_val.value_counts(normalize=True))\n",
        "\n",
        "print(\"\\nDistribusi Label pada Testing Set:\")\n",
        "print(y_test.value_counts(normalize=True))"
      ],
      "metadata": {
        "colab": {
          "base_uri": "https://localhost:8080/"
        },
        "id": "wr0vY3v4sP85",
        "outputId": "2521a57a-6055-4be7-dea8-06160ed9b7c5"
      },
      "execution_count": 9,
      "outputs": [
        {
          "output_type": "stream",
          "name": "stdout",
          "text": [
            "Ukuran data training (X_train, y_train): (1243706, 77), (1243706,)\n",
            "Ukuran data validation (X_val, y_val): (266509, 77), (266509,)\n",
            "Ukuran data testing (X_test, y_test): (266509, 77), (266509,)\n",
            "\n",
            "Distribusi Label pada Training Set:\n",
            "Label\n",
            "BENIGN    0.810604\n",
            "ATTACK    0.189396\n",
            "Name: proportion, dtype: float64\n",
            "\n",
            "Distribusi Label pada Validation Set:\n",
            "Label\n",
            "BENIGN    0.810603\n",
            "ATTACK    0.189397\n",
            "Name: proportion, dtype: float64\n",
            "\n",
            "Distribusi Label pada Testing Set:\n",
            "Label\n",
            "BENIGN    0.810603\n",
            "ATTACK    0.189397\n",
            "Name: proportion, dtype: float64\n"
          ]
        }
      ]
    },
    {
      "cell_type": "markdown",
      "source": [
        "## Transformasi Data"
      ],
      "metadata": {
        "id": "aMyDj6-xtmR-"
      }
    },
    {
      "cell_type": "code",
      "source": [
        "# imputer\n",
        "imputer = SimpleImputer(missing_values=np.nan, strategy='mean', copy=False)\n",
        "print(\"fitting imputer...\")\n",
        "imputer.fit(X_train)\n",
        "print(\"selesai!\")\n",
        "\n",
        "# scaler\n",
        "scaler = StandardScaler(copy=False)\n",
        "print(\"\\nfitting scaler...\")\n",
        "scaler.fit(X_train)\n",
        "print(\"selesai!\")\n",
        "\n",
        "# label encoder (le)\n",
        "le = LabelEncoder()\n",
        "print(\"\\nfitting label encoder...\")\n",
        "le.fit(y_train.astype(str))\n",
        "print(\"selesai!\")"
      ],
      "metadata": {
        "colab": {
          "base_uri": "https://localhost:8080/"
        },
        "id": "l8-s_NOPtdAy",
        "outputId": "96ba17c0-b579-43ba-b983-f948b8178e97"
      },
      "execution_count": 10,
      "outputs": [
        {
          "output_type": "stream",
          "name": "stdout",
          "text": [
            "fitting imputer...\n",
            "selesai!\n",
            "\n",
            "fitting scaler...\n",
            "selesai!\n",
            "\n",
            "fitting label encoder...\n",
            "selesai!\n"
          ]
        }
      ]
    },
    {
      "cell_type": "code",
      "source": [
        "for i, label in enumerate(le.classes_):\n",
        "    print(f\"i : {i} , label : {label}\")"
      ],
      "metadata": {
        "colab": {
          "base_uri": "https://localhost:8080/"
        },
        "collapsed": true,
        "id": "OXZLJ3nKuX6c",
        "outputId": "a87cee80-3802-4bc7-b6e5-da8cb7d26904"
      },
      "execution_count": 11,
      "outputs": [
        {
          "output_type": "stream",
          "name": "stdout",
          "text": [
            "i : 0 , label : ATTACK\n",
            "i : 1 , label : BENIGN\n"
          ]
        }
      ]
    },
    {
      "cell_type": "code",
      "source": [
        "# Menampilkan informasi kelas\n",
        "print(\"\\nKelas yang terdeteksi:\")\n",
        "for i, label in enumerate(le.classes_):\n",
        "    count = (df[\"Label\"] == le.classes_[i]).sum()\n",
        "    print(f\"{label}: {count} samples (encoded as {i})\")"
      ],
      "metadata": {
        "colab": {
          "base_uri": "https://localhost:8080/"
        },
        "id": "0nRyDrn1u1pf",
        "outputId": "8d7ec02f-6727-4105-c0b6-e0486598737f"
      },
      "execution_count": 12,
      "outputs": [
        {
          "output_type": "stream",
          "name": "stdout",
          "text": [
            "\n",
            "Kelas yang terdeteksi:\n",
            "ATTACK: 336505 samples (encoded as 0)\n",
            "BENIGN: 1440219 samples (encoded as 1)\n"
          ]
        }
      ]
    },
    {
      "cell_type": "code",
      "source": [
        "def transform_data(X, y, scaler, imputer, le):\n",
        "    # Handling missing values untuk dataset training\n",
        "    print(\"\\nMenangani missing values...\")\n",
        "    X = imputer.transform(X)\n",
        "    print(\"selesai!\")\n",
        "\n",
        "    # Normalisasi Data\n",
        "    print(\"\\nMelakukan normalisasi data...\")\n",
        "    X = scaler.transform(X)\n",
        "    print(\"selesai!\")\n",
        "\n",
        "    # Pelabelan Kelas\n",
        "    num_classes = len(le.classes_)\n",
        "    print(\"\\nMelakukan one-hot encoding...\")\n",
        "    y = le.transform(y)\n",
        "    print(\"selesai!\")\n",
        "\n",
        "    return X, y"
      ],
      "metadata": {
        "id": "5SsS5iBXuYTo"
      },
      "execution_count": 13,
      "outputs": []
    },
    {
      "cell_type": "code",
      "source": [
        "## Transformasi Data Training\n",
        "X_train, y_train = transform_data(X_train, y_train, scaler, imputer, le)\n",
        "\n",
        "## Transformasi Data Validation\n",
        "X_val, y_val = transform_data(X_val, y_val, scaler, imputer, le)\n",
        "\n",
        "# Transformmasi data testing\n",
        "X_test, y_test = transform_data(X_test, y_test, scaler, imputer, le)"
      ],
      "metadata": {
        "colab": {
          "base_uri": "https://localhost:8080/"
        },
        "id": "ReeYyZNUvCkD",
        "outputId": "007638dc-2e31-45c1-ec1f-670190e726c8"
      },
      "execution_count": 14,
      "outputs": [
        {
          "output_type": "stream",
          "name": "stdout",
          "text": [
            "\n",
            "Menangani missing values...\n",
            "selesai!\n",
            "\n",
            "Melakukan normalisasi data...\n",
            "selesai!\n",
            "\n",
            "Melakukan one-hot encoding...\n"
          ]
        },
        {
          "output_type": "stream",
          "name": "stderr",
          "text": [
            "/usr/local/lib/python3.11/dist-packages/sklearn/utils/validation.py:2739: UserWarning: X does not have valid feature names, but StandardScaler was fitted with feature names\n",
            "  warnings.warn(\n"
          ]
        },
        {
          "output_type": "stream",
          "name": "stdout",
          "text": [
            "selesai!\n",
            "\n",
            "Menangani missing values...\n",
            "selesai!\n",
            "\n",
            "Melakukan normalisasi data...\n",
            "selesai!\n",
            "\n",
            "Melakukan one-hot encoding...\n",
            "selesai!\n",
            "\n",
            "Menangani missing values...\n"
          ]
        },
        {
          "output_type": "stream",
          "name": "stderr",
          "text": [
            "/usr/local/lib/python3.11/dist-packages/sklearn/utils/validation.py:2739: UserWarning: X does not have valid feature names, but StandardScaler was fitted with feature names\n",
            "  warnings.warn(\n",
            "/usr/local/lib/python3.11/dist-packages/sklearn/utils/validation.py:2739: UserWarning: X does not have valid feature names, but StandardScaler was fitted with feature names\n",
            "  warnings.warn(\n"
          ]
        },
        {
          "output_type": "stream",
          "name": "stdout",
          "text": [
            "selesai!\n",
            "\n",
            "Melakukan normalisasi data...\n",
            "selesai!\n",
            "\n",
            "Melakukan one-hot encoding...\n",
            "selesai!\n"
          ]
        }
      ]
    },
    {
      "cell_type": "markdown",
      "source": [
        "## Konstruksi Model DNN"
      ],
      "metadata": {
        "id": "IVw3XcHdvOpz"
      }
    },
    {
      "cell_type": "code",
      "source": [
        "# prompt: buat model neural network dengan 3 layer dan jumlah neuron masing masing 32, 64, dan 32 untuk masalah klasifikasi biner\n",
        "\n",
        "# Membangun model DNN\n",
        "input_shape = (X_train.shape[1],) # Bentuk input sesuai dengan jumlah fitur\n",
        "\n",
        "model = tf.keras.Sequential([\n",
        "    layers.InputLayer(input_shape=input_shape),\n",
        "    layers.Dense(32, activation='relu'), # Layer pertama dengan 32 neuron\n",
        "    layers.Dense(64, activation='relu'), # Layer kedua dengan 64 neuron\n",
        "    layers.Dense(32, activation='relu'), # Layer ketiga dengan 32 neuron\n",
        "    layers.Dense(1, activation='sigmoid') # Output layer dengan 1 neuron (untuk klasifikasi biner) dan sigmoid\n",
        "])\n",
        "\n",
        "# Compile Model\n",
        "optimizer = tf.keras.optimizers.Adam(learning_rate=0.0001)\n",
        "model.compile(optimizer=optimizer,\n",
        "              loss='binary_crossentropy',\n",
        "              metrics=['accuracy', 'precision', 'recall'])\n",
        "\n",
        "history = model.fit(X_train, y_train,\n",
        "                    epochs=70,\n",
        "                    batch_size=128,\n",
        "                    validation_data=(X_val, y_val)\n",
        "                   )\n",
        "\n",
        "# Menampilkan ringkasan model\n",
        "model.summary()"
      ],
      "metadata": {
        "colab": {
          "base_uri": "https://localhost:8080/",
          "height": 1000
        },
        "id": "6BOSB-ssvOQz",
        "outputId": "9894b84f-6d8c-4bde-cffb-566c65241912"
      },
      "execution_count": 17,
      "outputs": [
        {
          "output_type": "stream",
          "name": "stderr",
          "text": [
            "/usr/local/lib/python3.11/dist-packages/keras/src/layers/core/input_layer.py:27: UserWarning: Argument `input_shape` is deprecated. Use `shape` instead.\n",
            "  warnings.warn(\n"
          ]
        },
        {
          "output_type": "stream",
          "name": "stdout",
          "text": [
            "Epoch 1/70\n",
            "\u001b[1m9717/9717\u001b[0m \u001b[32m━━━━━━━━━━━━━━━━━━━━\u001b[0m\u001b[37m\u001b[0m \u001b[1m19s\u001b[0m 2ms/step - accuracy: 0.9594 - loss: 0.1391 - precision: 0.9571 - recall: 0.9950 - val_accuracy: 0.9824 - val_loss: 0.0548 - val_precision: 0.9825 - val_recall: 0.9960\n",
            "Epoch 2/70\n",
            "\u001b[1m9717/9717\u001b[0m \u001b[32m━━━━━━━━━━━━━━━━━━━━\u001b[0m\u001b[37m\u001b[0m \u001b[1m17s\u001b[0m 2ms/step - accuracy: 0.9839 - loss: 0.0508 - precision: 0.9845 - recall: 0.9959 - val_accuracy: 0.9850 - val_loss: 0.0448 - val_precision: 0.9849 - val_recall: 0.9968\n",
            "Epoch 3/70\n",
            "\u001b[1m9717/9717\u001b[0m \u001b[32m━━━━━━━━━━━━━━━━━━━━\u001b[0m\u001b[37m\u001b[0m \u001b[1m17s\u001b[0m 2ms/step - accuracy: 0.9856 - loss: 0.0428 - precision: 0.9854 - recall: 0.9970 - val_accuracy: 0.9857 - val_loss: 0.0397 - val_precision: 0.9857 - val_recall: 0.9968\n",
            "Epoch 4/70\n",
            "\u001b[1m9717/9717\u001b[0m \u001b[32m━━━━━━━━━━━━━━━━━━━━\u001b[0m\u001b[37m\u001b[0m \u001b[1m17s\u001b[0m 2ms/step - accuracy: 0.9860 - loss: 0.0382 - precision: 0.9860 - recall: 0.9969 - val_accuracy: 0.9858 - val_loss: 0.0361 - val_precision: 0.9861 - val_recall: 0.9966\n",
            "Epoch 5/70\n",
            "\u001b[1m9717/9717\u001b[0m \u001b[32m━━━━━━━━━━━━━━━━━━━━\u001b[0m\u001b[37m\u001b[0m \u001b[1m17s\u001b[0m 2ms/step - accuracy: 0.9866 - loss: 0.0347 - precision: 0.9865 - recall: 0.9972 - val_accuracy: 0.9877 - val_loss: 0.0333 - val_precision: 0.9883 - val_recall: 0.9967\n",
            "Epoch 6/70\n",
            "\u001b[1m9717/9717\u001b[0m \u001b[32m━━━━━━━━━━━━━━━━━━━━\u001b[0m\u001b[37m\u001b[0m \u001b[1m17s\u001b[0m 2ms/step - accuracy: 0.9874 - loss: 0.0328 - precision: 0.9873 - recall: 0.9973 - val_accuracy: 0.9874 - val_loss: 0.0318 - val_precision: 0.9868 - val_recall: 0.9979\n",
            "Epoch 7/70\n",
            "\u001b[1m9717/9717\u001b[0m \u001b[32m━━━━━━━━━━━━━━━━━━━━\u001b[0m\u001b[37m\u001b[0m \u001b[1m17s\u001b[0m 2ms/step - accuracy: 0.9884 - loss: 0.0308 - precision: 0.9884 - recall: 0.9974 - val_accuracy: 0.9877 - val_loss: 0.0291 - val_precision: 0.9868 - val_recall: 0.9983\n",
            "Epoch 8/70\n",
            "\u001b[1m9717/9717\u001b[0m \u001b[32m━━━━━━━━━━━━━━━━━━━━\u001b[0m\u001b[37m\u001b[0m \u001b[1m17s\u001b[0m 2ms/step - accuracy: 0.9896 - loss: 0.0285 - precision: 0.9898 - recall: 0.9975 - val_accuracy: 0.9888 - val_loss: 0.0274 - val_precision: 0.9883 - val_recall: 0.9980\n",
            "Epoch 9/70\n",
            "\u001b[1m9717/9717\u001b[0m \u001b[32m━━━━━━━━━━━━━━━━━━━━\u001b[0m\u001b[37m\u001b[0m \u001b[1m17s\u001b[0m 2ms/step - accuracy: 0.9906 - loss: 0.0267 - precision: 0.9909 - recall: 0.9976 - val_accuracy: 0.9927 - val_loss: 0.0256 - val_precision: 0.9936 - val_recall: 0.9974\n",
            "Epoch 10/70\n",
            "\u001b[1m9717/9717\u001b[0m \u001b[32m━━━━━━━━━━━━━━━━━━━━\u001b[0m\u001b[37m\u001b[0m \u001b[1m17s\u001b[0m 2ms/step - accuracy: 0.9914 - loss: 0.0253 - precision: 0.9918 - recall: 0.9976 - val_accuracy: 0.9926 - val_loss: 0.0234 - val_precision: 0.9927 - val_recall: 0.9983\n",
            "Epoch 11/70\n",
            "\u001b[1m9717/9717\u001b[0m \u001b[32m━━━━━━━━━━━━━━━━━━━━\u001b[0m\u001b[37m\u001b[0m \u001b[1m18s\u001b[0m 2ms/step - accuracy: 0.9922 - loss: 0.0238 - precision: 0.9927 - recall: 0.9977 - val_accuracy: 0.9923 - val_loss: 0.0225 - val_precision: 0.9927 - val_recall: 0.9979\n",
            "Epoch 12/70\n",
            "\u001b[1m9717/9717\u001b[0m \u001b[32m━━━━━━━━━━━━━━━━━━━━\u001b[0m\u001b[37m\u001b[0m \u001b[1m17s\u001b[0m 2ms/step - accuracy: 0.9927 - loss: 0.0223 - precision: 0.9934 - recall: 0.9976 - val_accuracy: 0.9924 - val_loss: 0.0217 - val_precision: 0.9923 - val_recall: 0.9984\n",
            "Epoch 13/70\n",
            "\u001b[1m9717/9717\u001b[0m \u001b[32m━━━━━━━━━━━━━━━━━━━━\u001b[0m\u001b[37m\u001b[0m \u001b[1m18s\u001b[0m 2ms/step - accuracy: 0.9933 - loss: 0.0213 - precision: 0.9940 - recall: 0.9978 - val_accuracy: 0.9935 - val_loss: 0.0209 - val_precision: 0.9940 - val_recall: 0.9980\n",
            "Epoch 14/70\n",
            "\u001b[1m9717/9717\u001b[0m \u001b[32m━━━━━━━━━━━━━━━━━━━━\u001b[0m\u001b[37m\u001b[0m \u001b[1m18s\u001b[0m 2ms/step - accuracy: 0.9934 - loss: 0.0207 - precision: 0.9942 - recall: 0.9977 - val_accuracy: 0.9936 - val_loss: 0.0210 - val_precision: 0.9956 - val_recall: 0.9965\n",
            "Epoch 15/70\n",
            "\u001b[1m9717/9717\u001b[0m \u001b[32m━━━━━━━━━━━━━━━━━━━━\u001b[0m\u001b[37m\u001b[0m \u001b[1m18s\u001b[0m 2ms/step - accuracy: 0.9938 - loss: 0.0197 - precision: 0.9945 - recall: 0.9979 - val_accuracy: 0.9896 - val_loss: 0.0254 - val_precision: 0.9978 - val_recall: 0.9893\n",
            "Epoch 16/70\n",
            "\u001b[1m9717/9717\u001b[0m \u001b[32m━━━━━━━━━━━━━━━━━━━━\u001b[0m\u001b[37m\u001b[0m \u001b[1m17s\u001b[0m 2ms/step - accuracy: 0.9941 - loss: 0.0188 - precision: 0.9948 - recall: 0.9979 - val_accuracy: 0.9937 - val_loss: 0.0192 - val_precision: 0.9936 - val_recall: 0.9986\n",
            "Epoch 17/70\n",
            "\u001b[1m9717/9717\u001b[0m \u001b[32m━━━━━━━━━━━━━━━━━━━━\u001b[0m\u001b[37m\u001b[0m \u001b[1m17s\u001b[0m 2ms/step - accuracy: 0.9941 - loss: 0.0188 - precision: 0.9949 - recall: 0.9979 - val_accuracy: 0.9935 - val_loss: 0.0198 - val_precision: 0.9957 - val_recall: 0.9963\n",
            "Epoch 18/70\n",
            "\u001b[1m9717/9717\u001b[0m \u001b[32m━━━━━━━━━━━━━━━━━━━━\u001b[0m\u001b[37m\u001b[0m \u001b[1m17s\u001b[0m 2ms/step - accuracy: 0.9943 - loss: 0.0182 - precision: 0.9950 - recall: 0.9980 - val_accuracy: 0.9944 - val_loss: 0.0176 - val_precision: 0.9945 - val_recall: 0.9987\n",
            "Epoch 19/70\n",
            "\u001b[1m9717/9717\u001b[0m \u001b[32m━━━━━━━━━━━━━━━━━━━━\u001b[0m\u001b[37m\u001b[0m \u001b[1m17s\u001b[0m 2ms/step - accuracy: 0.9943 - loss: 0.0180 - precision: 0.9951 - recall: 0.9979 - val_accuracy: 0.9934 - val_loss: 0.0198 - val_precision: 0.9934 - val_recall: 0.9984\n",
            "Epoch 20/70\n",
            "\u001b[1m9717/9717\u001b[0m \u001b[32m━━━━━━━━━━━━━━━━━━━━\u001b[0m\u001b[37m\u001b[0m \u001b[1m17s\u001b[0m 2ms/step - accuracy: 0.9945 - loss: 0.0175 - precision: 0.9952 - recall: 0.9980 - val_accuracy: 0.9951 - val_loss: 0.0166 - val_precision: 0.9955 - val_recall: 0.9984\n",
            "Epoch 21/70\n",
            "\u001b[1m9717/9717\u001b[0m \u001b[32m━━━━━━━━━━━━━━━━━━━━\u001b[0m\u001b[37m\u001b[0m \u001b[1m17s\u001b[0m 2ms/step - accuracy: 0.9946 - loss: 0.0172 - precision: 0.9953 - recall: 0.9980 - val_accuracy: 0.9950 - val_loss: 0.0167 - val_precision: 0.9960 - val_recall: 0.9978\n",
            "Epoch 22/70\n",
            "\u001b[1m9717/9717\u001b[0m \u001b[32m━━━━━━━━━━━━━━━━━━━━\u001b[0m\u001b[37m\u001b[0m \u001b[1m17s\u001b[0m 2ms/step - accuracy: 0.9945 - loss: 0.0170 - precision: 0.9953 - recall: 0.9980 - val_accuracy: 0.9948 - val_loss: 0.0173 - val_precision: 0.9959 - val_recall: 0.9977\n",
            "Epoch 23/70\n",
            "\u001b[1m9717/9717\u001b[0m \u001b[32m━━━━━━━━━━━━━━━━━━━━\u001b[0m\u001b[37m\u001b[0m \u001b[1m18s\u001b[0m 2ms/step - accuracy: 0.9947 - loss: 0.0166 - precision: 0.9953 - recall: 0.9981 - val_accuracy: 0.9950 - val_loss: 0.0166 - val_precision: 0.9962 - val_recall: 0.9977\n",
            "Epoch 24/70\n",
            "\u001b[1m9717/9717\u001b[0m \u001b[32m━━━━━━━━━━━━━━━━━━━━\u001b[0m\u001b[37m\u001b[0m \u001b[1m17s\u001b[0m 2ms/step - accuracy: 0.9947 - loss: 0.0167 - precision: 0.9954 - recall: 0.9980 - val_accuracy: 0.9952 - val_loss: 0.0160 - val_precision: 0.9957 - val_recall: 0.9984\n",
            "Epoch 25/70\n",
            "\u001b[1m9717/9717\u001b[0m \u001b[32m━━━━━━━━━━━━━━━━━━━━\u001b[0m\u001b[37m\u001b[0m \u001b[1m17s\u001b[0m 2ms/step - accuracy: 0.9946 - loss: 0.0166 - precision: 0.9954 - recall: 0.9980 - val_accuracy: 0.9950 - val_loss: 0.0163 - val_precision: 0.9952 - val_recall: 0.9987\n",
            "Epoch 26/70\n",
            "\u001b[1m9717/9717\u001b[0m \u001b[32m━━━━━━━━━━━━━━━━━━━━\u001b[0m\u001b[37m\u001b[0m \u001b[1m17s\u001b[0m 2ms/step - accuracy: 0.9948 - loss: 0.0162 - precision: 0.9955 - recall: 0.9981 - val_accuracy: 0.9939 - val_loss: 0.0183 - val_precision: 0.9938 - val_recall: 0.9988\n",
            "Epoch 27/70\n",
            "\u001b[1m9717/9717\u001b[0m \u001b[32m━━━━━━━━━━━━━━━━━━━━\u001b[0m\u001b[37m\u001b[0m \u001b[1m17s\u001b[0m 2ms/step - accuracy: 0.9949 - loss: 0.0160 - precision: 0.9956 - recall: 0.9981 - val_accuracy: 0.9944 - val_loss: 0.0167 - val_precision: 0.9947 - val_recall: 0.9985\n",
            "Epoch 28/70\n",
            "\u001b[1m9717/9717\u001b[0m \u001b[32m━━━━━━━━━━━━━━━━━━━━\u001b[0m\u001b[37m\u001b[0m \u001b[1m17s\u001b[0m 2ms/step - accuracy: 0.9949 - loss: 0.0158 - precision: 0.9956 - recall: 0.9982 - val_accuracy: 0.9947 - val_loss: 0.0164 - val_precision: 0.9960 - val_recall: 0.9975\n",
            "Epoch 29/70\n",
            "\u001b[1m9717/9717\u001b[0m \u001b[32m━━━━━━━━━━━━━━━━━━━━\u001b[0m\u001b[37m\u001b[0m \u001b[1m17s\u001b[0m 2ms/step - accuracy: 0.9948 - loss: 0.0160 - precision: 0.9956 - recall: 0.9980 - val_accuracy: 0.9952 - val_loss: 0.0152 - val_precision: 0.9956 - val_recall: 0.9985\n",
            "Epoch 30/70\n",
            "\u001b[1m9717/9717\u001b[0m \u001b[32m━━━━━━━━━━━━━━━━━━━━\u001b[0m\u001b[37m\u001b[0m \u001b[1m17s\u001b[0m 2ms/step - accuracy: 0.9949 - loss: 0.0156 - precision: 0.9956 - recall: 0.9981 - val_accuracy: 0.9940 - val_loss: 0.0195 - val_precision: 0.9936 - val_recall: 0.9990\n",
            "Epoch 31/70\n",
            "\u001b[1m9717/9717\u001b[0m \u001b[32m━━━━━━━━━━━━━━━━━━━━\u001b[0m\u001b[37m\u001b[0m \u001b[1m17s\u001b[0m 2ms/step - accuracy: 0.9949 - loss: 0.0156 - precision: 0.9956 - recall: 0.9981 - val_accuracy: 0.9950 - val_loss: 0.0157 - val_precision: 0.9952 - val_recall: 0.9986\n",
            "Epoch 32/70\n",
            "\u001b[1m9717/9717\u001b[0m \u001b[32m━━━━━━━━━━━━━━━━━━━━\u001b[0m\u001b[37m\u001b[0m \u001b[1m17s\u001b[0m 2ms/step - accuracy: 0.9951 - loss: 0.0154 - precision: 0.9958 - recall: 0.9982 - val_accuracy: 0.9950 - val_loss: 0.0157 - val_precision: 0.9953 - val_recall: 0.9986\n",
            "Epoch 33/70\n",
            "\u001b[1m9717/9717\u001b[0m \u001b[32m━━━━━━━━━━━━━━━━━━━━\u001b[0m\u001b[37m\u001b[0m \u001b[1m17s\u001b[0m 2ms/step - accuracy: 0.9949 - loss: 0.0157 - precision: 0.9957 - recall: 0.9981 - val_accuracy: 0.9925 - val_loss: 0.0183 - val_precision: 0.9917 - val_recall: 0.9992\n",
            "Epoch 34/70\n",
            "\u001b[1m9717/9717\u001b[0m \u001b[32m━━━━━━━━━━━━━━━━━━━━\u001b[0m\u001b[37m\u001b[0m \u001b[1m17s\u001b[0m 2ms/step - accuracy: 0.9951 - loss: 0.0152 - precision: 0.9957 - recall: 0.9982 - val_accuracy: 0.9952 - val_loss: 0.0153 - val_precision: 0.9955 - val_recall: 0.9986\n",
            "Epoch 35/70\n",
            "\u001b[1m9717/9717\u001b[0m \u001b[32m━━━━━━━━━━━━━━━━━━━━\u001b[0m\u001b[37m\u001b[0m \u001b[1m17s\u001b[0m 2ms/step - accuracy: 0.9951 - loss: 0.0153 - precision: 0.9958 - recall: 0.9982 - val_accuracy: 0.9949 - val_loss: 0.0169 - val_precision: 0.9959 - val_recall: 0.9979\n",
            "Epoch 36/70\n",
            "\u001b[1m9717/9717\u001b[0m \u001b[32m━━━━━━━━━━━━━━━━━━━━\u001b[0m\u001b[37m\u001b[0m \u001b[1m17s\u001b[0m 2ms/step - accuracy: 0.9951 - loss: 0.0151 - precision: 0.9959 - recall: 0.9981 - val_accuracy: 0.9919 - val_loss: 0.0218 - val_precision: 0.9971 - val_recall: 0.9928\n",
            "Epoch 37/70\n",
            "\u001b[1m9717/9717\u001b[0m \u001b[32m━━━━━━━━━━━━━━━━━━━━\u001b[0m\u001b[37m\u001b[0m \u001b[1m17s\u001b[0m 2ms/step - accuracy: 0.9952 - loss: 0.0151 - precision: 0.9958 - recall: 0.9982 - val_accuracy: 0.9953 - val_loss: 0.0156 - val_precision: 0.9961 - val_recall: 0.9981\n",
            "Epoch 38/70\n",
            "\u001b[1m9717/9717\u001b[0m \u001b[32m━━━━━━━━━━━━━━━━━━━━\u001b[0m\u001b[37m\u001b[0m \u001b[1m18s\u001b[0m 2ms/step - accuracy: 0.9951 - loss: 0.0149 - precision: 0.9957 - recall: 0.9982 - val_accuracy: 0.9934 - val_loss: 0.0173 - val_precision: 0.9976 - val_recall: 0.9943\n",
            "Epoch 39/70\n",
            "\u001b[1m9717/9717\u001b[0m \u001b[32m━━━━━━━━━━━━━━━━━━━━\u001b[0m\u001b[37m\u001b[0m \u001b[1m17s\u001b[0m 2ms/step - accuracy: 0.9951 - loss: 0.0149 - precision: 0.9958 - recall: 0.9981 - val_accuracy: 0.9953 - val_loss: 0.0153 - val_precision: 0.9959 - val_recall: 0.9983\n",
            "Epoch 40/70\n",
            "\u001b[1m9717/9717\u001b[0m \u001b[32m━━━━━━━━━━━━━━━━━━━━\u001b[0m\u001b[37m\u001b[0m \u001b[1m17s\u001b[0m 2ms/step - accuracy: 0.9950 - loss: 0.0150 - precision: 0.9957 - recall: 0.9982 - val_accuracy: 0.9951 - val_loss: 0.0161 - val_precision: 0.9952 - val_recall: 0.9987\n",
            "Epoch 41/70\n",
            "\u001b[1m9717/9717\u001b[0m \u001b[32m━━━━━━━━━━━━━━━━━━━━\u001b[0m\u001b[37m\u001b[0m \u001b[1m18s\u001b[0m 2ms/step - accuracy: 0.9951 - loss: 0.0150 - precision: 0.9958 - recall: 0.9982 - val_accuracy: 0.9951 - val_loss: 0.0162 - val_precision: 0.9954 - val_recall: 0.9986\n",
            "Epoch 42/70\n",
            "\u001b[1m9717/9717\u001b[0m \u001b[32m━━━━━━━━━━━━━━━━━━━━\u001b[0m\u001b[37m\u001b[0m \u001b[1m17s\u001b[0m 2ms/step - accuracy: 0.9952 - loss: 0.0147 - precision: 0.9958 - recall: 0.9983 - val_accuracy: 0.9945 - val_loss: 0.0171 - val_precision: 0.9943 - val_recall: 0.9989\n",
            "Epoch 43/70\n",
            "\u001b[1m9717/9717\u001b[0m \u001b[32m━━━━━━━━━━━━━━━━━━━━\u001b[0m\u001b[37m\u001b[0m \u001b[1m17s\u001b[0m 2ms/step - accuracy: 0.9950 - loss: 0.0149 - precision: 0.9957 - recall: 0.9982 - val_accuracy: 0.9937 - val_loss: 0.0192 - val_precision: 0.9934 - val_recall: 0.9988\n",
            "Epoch 44/70\n",
            "\u001b[1m9717/9717\u001b[0m \u001b[32m━━━━━━━━━━━━━━━━━━━━\u001b[0m\u001b[37m\u001b[0m \u001b[1m17s\u001b[0m 2ms/step - accuracy: 0.9952 - loss: 0.0147 - precision: 0.9958 - recall: 0.9982 - val_accuracy: 0.9956 - val_loss: 0.0143 - val_precision: 0.9962 - val_recall: 0.9984\n",
            "Epoch 45/70\n",
            "\u001b[1m9717/9717\u001b[0m \u001b[32m━━━━━━━━━━━━━━━━━━━━\u001b[0m\u001b[37m\u001b[0m \u001b[1m17s\u001b[0m 2ms/step - accuracy: 0.9953 - loss: 0.0144 - precision: 0.9959 - recall: 0.9983 - val_accuracy: 0.9954 - val_loss: 0.0149 - val_precision: 0.9961 - val_recall: 0.9982\n",
            "Epoch 46/70\n",
            "\u001b[1m9717/9717\u001b[0m \u001b[32m━━━━━━━━━━━━━━━━━━━━\u001b[0m\u001b[37m\u001b[0m \u001b[1m17s\u001b[0m 2ms/step - accuracy: 0.9954 - loss: 0.0143 - precision: 0.9960 - recall: 0.9983 - val_accuracy: 0.9954 - val_loss: 0.0153 - val_precision: 0.9962 - val_recall: 0.9981\n",
            "Epoch 47/70\n",
            "\u001b[1m9717/9717\u001b[0m \u001b[32m━━━━━━━━━━━━━━━━━━━━\u001b[0m\u001b[37m\u001b[0m \u001b[1m17s\u001b[0m 2ms/step - accuracy: 0.9952 - loss: 0.0145 - precision: 0.9959 - recall: 0.9982 - val_accuracy: 0.9945 - val_loss: 0.0166 - val_precision: 0.9964 - val_recall: 0.9968\n",
            "Epoch 48/70\n",
            "\u001b[1m9717/9717\u001b[0m \u001b[32m━━━━━━━━━━━━━━━━━━━━\u001b[0m\u001b[37m\u001b[0m \u001b[1m18s\u001b[0m 2ms/step - accuracy: 0.9953 - loss: 0.0144 - precision: 0.9959 - recall: 0.9983 - val_accuracy: 0.9956 - val_loss: 0.0144 - val_precision: 0.9960 - val_recall: 0.9985\n",
            "Epoch 49/70\n",
            "\u001b[1m9717/9717\u001b[0m \u001b[32m━━━━━━━━━━━━━━━━━━━━\u001b[0m\u001b[37m\u001b[0m \u001b[1m17s\u001b[0m 2ms/step - accuracy: 0.9952 - loss: 0.0144 - precision: 0.9959 - recall: 0.9982 - val_accuracy: 0.9953 - val_loss: 0.0145 - val_precision: 0.9958 - val_recall: 0.9984\n",
            "Epoch 50/70\n",
            "\u001b[1m9717/9717\u001b[0m \u001b[32m━━━━━━━━━━━━━━━━━━━━\u001b[0m\u001b[37m\u001b[0m \u001b[1m17s\u001b[0m 2ms/step - accuracy: 0.9952 - loss: 0.0146 - precision: 0.9958 - recall: 0.9983 - val_accuracy: 0.9950 - val_loss: 0.0158 - val_precision: 0.9951 - val_recall: 0.9987\n",
            "Epoch 51/70\n",
            "\u001b[1m9717/9717\u001b[0m \u001b[32m━━━━━━━━━━━━━━━━━━━━\u001b[0m\u001b[37m\u001b[0m \u001b[1m18s\u001b[0m 2ms/step - accuracy: 0.9954 - loss: 0.0144 - precision: 0.9960 - recall: 0.9983 - val_accuracy: 0.9956 - val_loss: 0.0146 - val_precision: 0.9960 - val_recall: 0.9986\n",
            "Epoch 52/70\n",
            "\u001b[1m9717/9717\u001b[0m \u001b[32m━━━━━━━━━━━━━━━━━━━━\u001b[0m\u001b[37m\u001b[0m \u001b[1m17s\u001b[0m 2ms/step - accuracy: 0.9953 - loss: 0.0141 - precision: 0.9960 - recall: 0.9982 - val_accuracy: 0.9927 - val_loss: 0.0236 - val_precision: 0.9923 - val_recall: 0.9987\n",
            "Epoch 53/70\n",
            "\u001b[1m9717/9717\u001b[0m \u001b[32m━━━━━━━━━━━━━━━━━━━━\u001b[0m\u001b[37m\u001b[0m \u001b[1m17s\u001b[0m 2ms/step - accuracy: 0.9954 - loss: 0.0141 - precision: 0.9961 - recall: 0.9982 - val_accuracy: 0.9955 - val_loss: 0.0145 - val_precision: 0.9960 - val_recall: 0.9984\n",
            "Epoch 54/70\n",
            "\u001b[1m9717/9717\u001b[0m \u001b[32m━━━━━━━━━━━━━━━━━━━━\u001b[0m\u001b[37m\u001b[0m \u001b[1m17s\u001b[0m 2ms/step - accuracy: 0.9953 - loss: 0.0143 - precision: 0.9959 - recall: 0.9983 - val_accuracy: 0.9952 - val_loss: 0.0147 - val_precision: 0.9955 - val_recall: 0.9986\n",
            "Epoch 55/70\n",
            "\u001b[1m9717/9717\u001b[0m \u001b[32m━━━━━━━━━━━━━━━━━━━━\u001b[0m\u001b[37m\u001b[0m \u001b[1m17s\u001b[0m 2ms/step - accuracy: 0.9955 - loss: 0.0138 - precision: 0.9961 - recall: 0.9984 - val_accuracy: 0.9956 - val_loss: 0.0145 - val_precision: 0.9960 - val_recall: 0.9986\n",
            "Epoch 56/70\n",
            "\u001b[1m9717/9717\u001b[0m \u001b[32m━━━━━━━━━━━━━━━━━━━━\u001b[0m\u001b[37m\u001b[0m \u001b[1m17s\u001b[0m 2ms/step - accuracy: 0.9954 - loss: 0.0140 - precision: 0.9960 - recall: 0.9983 - val_accuracy: 0.9951 - val_loss: 0.0149 - val_precision: 0.9959 - val_recall: 0.9981\n",
            "Epoch 57/70\n",
            "\u001b[1m9717/9717\u001b[0m \u001b[32m━━━━━━━━━━━━━━━━━━━━\u001b[0m\u001b[37m\u001b[0m \u001b[1m17s\u001b[0m 2ms/step - accuracy: 0.9953 - loss: 0.0141 - precision: 0.9960 - recall: 0.9982 - val_accuracy: 0.9948 - val_loss: 0.0160 - val_precision: 0.9963 - val_recall: 0.9974\n",
            "Epoch 58/70\n",
            "\u001b[1m9717/9717\u001b[0m \u001b[32m━━━━━━━━━━━━━━━━━━━━\u001b[0m\u001b[37m\u001b[0m \u001b[1m17s\u001b[0m 2ms/step - accuracy: 0.9953 - loss: 0.0141 - precision: 0.9959 - recall: 0.9982 - val_accuracy: 0.9955 - val_loss: 0.0148 - val_precision: 0.9956 - val_recall: 0.9988\n",
            "Epoch 59/70\n",
            "\u001b[1m9717/9717\u001b[0m \u001b[32m━━━━━━━━━━━━━━━━━━━━\u001b[0m\u001b[37m\u001b[0m \u001b[1m17s\u001b[0m 2ms/step - accuracy: 0.9954 - loss: 0.0140 - precision: 0.9961 - recall: 0.9983 - val_accuracy: 0.9947 - val_loss: 0.0150 - val_precision: 0.9967 - val_recall: 0.9967\n",
            "Epoch 60/70\n",
            "\u001b[1m9717/9717\u001b[0m \u001b[32m━━━━━━━━━━━━━━━━━━━━\u001b[0m\u001b[37m\u001b[0m \u001b[1m17s\u001b[0m 2ms/step - accuracy: 0.9955 - loss: 0.0139 - precision: 0.9961 - recall: 0.9983 - val_accuracy: 0.9955 - val_loss: 0.0144 - val_precision: 0.9961 - val_recall: 0.9984\n",
            "Epoch 61/70\n",
            "\u001b[1m9717/9717\u001b[0m \u001b[32m━━━━━━━━━━━━━━━━━━━━\u001b[0m\u001b[37m\u001b[0m \u001b[1m17s\u001b[0m 2ms/step - accuracy: 0.9954 - loss: 0.0137 - precision: 0.9960 - recall: 0.9983 - val_accuracy: 0.9951 - val_loss: 0.0155 - val_precision: 0.9950 - val_recall: 0.9990\n",
            "Epoch 62/70\n",
            "\u001b[1m9717/9717\u001b[0m \u001b[32m━━━━━━━━━━━━━━━━━━━━\u001b[0m\u001b[37m\u001b[0m \u001b[1m17s\u001b[0m 2ms/step - accuracy: 0.9954 - loss: 0.0139 - precision: 0.9960 - recall: 0.9983 - val_accuracy: 0.9941 - val_loss: 0.0165 - val_precision: 0.9980 - val_recall: 0.9948\n",
            "Epoch 63/70\n",
            "\u001b[1m9717/9717\u001b[0m \u001b[32m━━━━━━━━━━━━━━━━━━━━\u001b[0m\u001b[37m\u001b[0m \u001b[1m17s\u001b[0m 2ms/step - accuracy: 0.9953 - loss: 0.0139 - precision: 0.9960 - recall: 0.9982 - val_accuracy: 0.9953 - val_loss: 0.0146 - val_precision: 0.9954 - val_recall: 0.9988\n",
            "Epoch 64/70\n",
            "\u001b[1m9717/9717\u001b[0m \u001b[32m━━━━━━━━━━━━━━━━━━━━\u001b[0m\u001b[37m\u001b[0m \u001b[1m17s\u001b[0m 2ms/step - accuracy: 0.9954 - loss: 0.0138 - precision: 0.9961 - recall: 0.9983 - val_accuracy: 0.9956 - val_loss: 0.0138 - val_precision: 0.9962 - val_recall: 0.9985\n",
            "Epoch 65/70\n",
            "\u001b[1m9717/9717\u001b[0m \u001b[32m━━━━━━━━━━━━━━━━━━━━\u001b[0m\u001b[37m\u001b[0m \u001b[1m17s\u001b[0m 2ms/step - accuracy: 0.9956 - loss: 0.0135 - precision: 0.9962 - recall: 0.9984 - val_accuracy: 0.9960 - val_loss: 0.0142 - val_precision: 0.9972 - val_recall: 0.9979\n",
            "Epoch 66/70\n",
            "\u001b[1m9717/9717\u001b[0m \u001b[32m━━━━━━━━━━━━━━━━━━━━\u001b[0m\u001b[37m\u001b[0m \u001b[1m17s\u001b[0m 2ms/step - accuracy: 0.9953 - loss: 0.0139 - precision: 0.9961 - recall: 0.9982 - val_accuracy: 0.9955 - val_loss: 0.0149 - val_precision: 0.9961 - val_recall: 0.9984\n",
            "Epoch 67/70\n",
            "\u001b[1m9717/9717\u001b[0m \u001b[32m━━━━━━━━━━━━━━━━━━━━\u001b[0m\u001b[37m\u001b[0m \u001b[1m17s\u001b[0m 2ms/step - accuracy: 0.9956 - loss: 0.0134 - precision: 0.9962 - recall: 0.9984 - val_accuracy: 0.9941 - val_loss: 0.0167 - val_precision: 0.9966 - val_recall: 0.9960\n",
            "Epoch 68/70\n",
            "\u001b[1m9717/9717\u001b[0m \u001b[32m━━━━━━━━━━━━━━━━━━━━\u001b[0m\u001b[37m\u001b[0m \u001b[1m17s\u001b[0m 2ms/step - accuracy: 0.9955 - loss: 0.0135 - precision: 0.9961 - recall: 0.9983 - val_accuracy: 0.9955 - val_loss: 0.0139 - val_precision: 0.9957 - val_recall: 0.9988\n",
            "Epoch 69/70\n",
            "\u001b[1m9717/9717\u001b[0m \u001b[32m━━━━━━━━━━━━━━━━━━━━\u001b[0m\u001b[37m\u001b[0m \u001b[1m17s\u001b[0m 2ms/step - accuracy: 0.9954 - loss: 0.0137 - precision: 0.9961 - recall: 0.9983 - val_accuracy: 0.9956 - val_loss: 0.0138 - val_precision: 0.9960 - val_recall: 0.9986\n",
            "Epoch 70/70\n",
            "\u001b[1m9717/9717\u001b[0m \u001b[32m━━━━━━━━━━━━━━━━━━━━\u001b[0m\u001b[37m\u001b[0m \u001b[1m17s\u001b[0m 2ms/step - accuracy: 0.9956 - loss: 0.0134 - precision: 0.9962 - recall: 0.9984 - val_accuracy: 0.9957 - val_loss: 0.0144 - val_precision: 0.9960 - val_recall: 0.9986\n"
          ]
        },
        {
          "output_type": "display_data",
          "data": {
            "text/plain": [
              "\u001b[1mModel: \"sequential_2\"\u001b[0m\n"
            ],
            "text/html": [
              "<pre style=\"white-space:pre;overflow-x:auto;line-height:normal;font-family:Menlo,'DejaVu Sans Mono',consolas,'Courier New',monospace\"><span style=\"font-weight: bold\">Model: \"sequential_2\"</span>\n",
              "</pre>\n"
            ]
          },
          "metadata": {}
        },
        {
          "output_type": "display_data",
          "data": {
            "text/plain": [
              "┏━━━━━━━━━━━━━━━━━━━━━━━━━━━━━━━━━┳━━━━━━━━━━━━━━━━━━━━━━━━┳━━━━━━━━━━━━━━━┓\n",
              "┃\u001b[1m \u001b[0m\u001b[1mLayer (type)                   \u001b[0m\u001b[1m \u001b[0m┃\u001b[1m \u001b[0m\u001b[1mOutput Shape          \u001b[0m\u001b[1m \u001b[0m┃\u001b[1m \u001b[0m\u001b[1m      Param #\u001b[0m\u001b[1m \u001b[0m┃\n",
              "┡━━━━━━━━━━━━━━━━━━━━━━━━━━━━━━━━━╇━━━━━━━━━━━━━━━━━━━━━━━━╇━━━━━━━━━━━━━━━┩\n",
              "│ dense_8 (\u001b[38;5;33mDense\u001b[0m)                 │ (\u001b[38;5;45mNone\u001b[0m, \u001b[38;5;34m32\u001b[0m)             │         \u001b[38;5;34m2,496\u001b[0m │\n",
              "├─────────────────────────────────┼────────────────────────┼───────────────┤\n",
              "│ dense_9 (\u001b[38;5;33mDense\u001b[0m)                 │ (\u001b[38;5;45mNone\u001b[0m, \u001b[38;5;34m64\u001b[0m)             │         \u001b[38;5;34m2,112\u001b[0m │\n",
              "├─────────────────────────────────┼────────────────────────┼───────────────┤\n",
              "│ dense_10 (\u001b[38;5;33mDense\u001b[0m)                │ (\u001b[38;5;45mNone\u001b[0m, \u001b[38;5;34m32\u001b[0m)             │         \u001b[38;5;34m2,080\u001b[0m │\n",
              "├─────────────────────────────────┼────────────────────────┼───────────────┤\n",
              "│ dense_11 (\u001b[38;5;33mDense\u001b[0m)                │ (\u001b[38;5;45mNone\u001b[0m, \u001b[38;5;34m1\u001b[0m)              │            \u001b[38;5;34m33\u001b[0m │\n",
              "└─────────────────────────────────┴────────────────────────┴───────────────┘\n"
            ],
            "text/html": [
              "<pre style=\"white-space:pre;overflow-x:auto;line-height:normal;font-family:Menlo,'DejaVu Sans Mono',consolas,'Courier New',monospace\">┏━━━━━━━━━━━━━━━━━━━━━━━━━━━━━━━━━┳━━━━━━━━━━━━━━━━━━━━━━━━┳━━━━━━━━━━━━━━━┓\n",
              "┃<span style=\"font-weight: bold\"> Layer (type)                    </span>┃<span style=\"font-weight: bold\"> Output Shape           </span>┃<span style=\"font-weight: bold\">       Param # </span>┃\n",
              "┡━━━━━━━━━━━━━━━━━━━━━━━━━━━━━━━━━╇━━━━━━━━━━━━━━━━━━━━━━━━╇━━━━━━━━━━━━━━━┩\n",
              "│ dense_8 (<span style=\"color: #0087ff; text-decoration-color: #0087ff\">Dense</span>)                 │ (<span style=\"color: #00d7ff; text-decoration-color: #00d7ff\">None</span>, <span style=\"color: #00af00; text-decoration-color: #00af00\">32</span>)             │         <span style=\"color: #00af00; text-decoration-color: #00af00\">2,496</span> │\n",
              "├─────────────────────────────────┼────────────────────────┼───────────────┤\n",
              "│ dense_9 (<span style=\"color: #0087ff; text-decoration-color: #0087ff\">Dense</span>)                 │ (<span style=\"color: #00d7ff; text-decoration-color: #00d7ff\">None</span>, <span style=\"color: #00af00; text-decoration-color: #00af00\">64</span>)             │         <span style=\"color: #00af00; text-decoration-color: #00af00\">2,112</span> │\n",
              "├─────────────────────────────────┼────────────────────────┼───────────────┤\n",
              "│ dense_10 (<span style=\"color: #0087ff; text-decoration-color: #0087ff\">Dense</span>)                │ (<span style=\"color: #00d7ff; text-decoration-color: #00d7ff\">None</span>, <span style=\"color: #00af00; text-decoration-color: #00af00\">32</span>)             │         <span style=\"color: #00af00; text-decoration-color: #00af00\">2,080</span> │\n",
              "├─────────────────────────────────┼────────────────────────┼───────────────┤\n",
              "│ dense_11 (<span style=\"color: #0087ff; text-decoration-color: #0087ff\">Dense</span>)                │ (<span style=\"color: #00d7ff; text-decoration-color: #00d7ff\">None</span>, <span style=\"color: #00af00; text-decoration-color: #00af00\">1</span>)              │            <span style=\"color: #00af00; text-decoration-color: #00af00\">33</span> │\n",
              "└─────────────────────────────────┴────────────────────────┴───────────────┘\n",
              "</pre>\n"
            ]
          },
          "metadata": {}
        },
        {
          "output_type": "display_data",
          "data": {
            "text/plain": [
              "\u001b[1m Total params: \u001b[0m\u001b[38;5;34m20,165\u001b[0m (78.77 KB)\n"
            ],
            "text/html": [
              "<pre style=\"white-space:pre;overflow-x:auto;line-height:normal;font-family:Menlo,'DejaVu Sans Mono',consolas,'Courier New',monospace\"><span style=\"font-weight: bold\"> Total params: </span><span style=\"color: #00af00; text-decoration-color: #00af00\">20,165</span> (78.77 KB)\n",
              "</pre>\n"
            ]
          },
          "metadata": {}
        },
        {
          "output_type": "display_data",
          "data": {
            "text/plain": [
              "\u001b[1m Trainable params: \u001b[0m\u001b[38;5;34m6,721\u001b[0m (26.25 KB)\n"
            ],
            "text/html": [
              "<pre style=\"white-space:pre;overflow-x:auto;line-height:normal;font-family:Menlo,'DejaVu Sans Mono',consolas,'Courier New',monospace\"><span style=\"font-weight: bold\"> Trainable params: </span><span style=\"color: #00af00; text-decoration-color: #00af00\">6,721</span> (26.25 KB)\n",
              "</pre>\n"
            ]
          },
          "metadata": {}
        },
        {
          "output_type": "display_data",
          "data": {
            "text/plain": [
              "\u001b[1m Non-trainable params: \u001b[0m\u001b[38;5;34m0\u001b[0m (0.00 B)\n"
            ],
            "text/html": [
              "<pre style=\"white-space:pre;overflow-x:auto;line-height:normal;font-family:Menlo,'DejaVu Sans Mono',consolas,'Courier New',monospace\"><span style=\"font-weight: bold\"> Non-trainable params: </span><span style=\"color: #00af00; text-decoration-color: #00af00\">0</span> (0.00 B)\n",
              "</pre>\n"
            ]
          },
          "metadata": {}
        },
        {
          "output_type": "display_data",
          "data": {
            "text/plain": [
              "\u001b[1m Optimizer params: \u001b[0m\u001b[38;5;34m13,444\u001b[0m (52.52 KB)\n"
            ],
            "text/html": [
              "<pre style=\"white-space:pre;overflow-x:auto;line-height:normal;font-family:Menlo,'DejaVu Sans Mono',consolas,'Courier New',monospace\"><span style=\"font-weight: bold\"> Optimizer params: </span><span style=\"color: #00af00; text-decoration-color: #00af00\">13,444</span> (52.52 KB)\n",
              "</pre>\n"
            ]
          },
          "metadata": {}
        }
      ]
    },
    {
      "cell_type": "code",
      "source": [
        "plt.plot(history.history['accuracy'], label='Training Accuracy')\n",
        "plt.plot(history.history['val_accuracy'], label='Validation Accuracy')\n",
        "plt.title('DNN Training History')\n",
        "plt.xlabel('Epoch')\n",
        "plt.ylabel('Accuracy')\n",
        "plt.legend()\n",
        "plt.savefig(\"training_history\")"
      ],
      "metadata": {
        "colab": {
          "base_uri": "https://localhost:8080/",
          "height": 472
        },
        "id": "BlJyBu2B1kcO",
        "outputId": "7d523819-164a-4e0e-97c0-2f41b4c230f8"
      },
      "execution_count": 18,
      "outputs": [
        {
          "output_type": "display_data",
          "data": {
            "text/plain": [
              "<Figure size 640x480 with 1 Axes>"
            ],
            "image/png": "[encoded data removed]"
          },
          "metadata": {}
        }
      ]
    },
    {
      "cell_type": "code",
      "source": [
        "# Evaluasi model\n",
        "y_pred_prob = model.predict(X_test)\n",
        "y_pred_classes = (y_pred_prob > 0.5).astype(int)\n",
        "y_test_classes = y_test\n",
        "\n",
        "# Tampilkan hasil evaluasi\n",
        "print(\"\\nClassification Report:\")\n",
        "print(classification_report(y_test_classes, y_pred_classes, target_names=le.classes_))"
      ],
      "metadata": {
        "colab": {
          "base_uri": "https://localhost:8080/"
        },
        "id": "7IRnJTHg3WL8",
        "outputId": "fbc69423-d379-4792-c3de-a670a44569f4"
      },
      "execution_count": 20,
      "outputs": [
        {
          "output_type": "stream",
          "name": "stdout",
          "text": [
            "\u001b[1m8329/8329\u001b[0m \u001b[32m━━━━━━━━━━━━━━━━━━━━\u001b[0m\u001b[37m\u001b[0m \u001b[1m5s\u001b[0m 647us/step\n",
            "\n",
            "Classification Report:\n",
            "              precision    recall  f1-score   support\n",
            "\n",
            "      ATTACK       0.99      0.98      0.99     50476\n",
            "      BENIGN       1.00      1.00      1.00    216033\n",
            "\n",
            "    accuracy                           1.00    266509\n",
            "   macro avg       0.99      0.99      0.99    266509\n",
            "weighted avg       1.00      1.00      1.00    266509\n",
            "\n"
          ]
        }
      ]
    },
    {
      "cell_type": "code",
      "source": [
        "import matplotlib.pyplot as plt\n",
        "# Confusion Matrix\n",
        "cm = confusion_matrix(y_test_classes, y_pred_classes)\n",
        "\n",
        "plt.figure(figsize=(8, 6))\n",
        "sns.heatmap(cm, annot=True, fmt='d', cmap='Blues', xticklabels=le.classes_, yticklabels=le.classes_)\n",
        "plt.title('Confusion Matrix')\n",
        "plt.xlabel('Predicted Label')\n",
        "plt.ylabel('True Label')\n",
        "plt.show()"
      ],
      "metadata": {
        "colab": {
          "base_uri": "https://localhost:8080/",
          "height": 564
        },
        "id": "KTvJRBUU8NQN",
        "outputId": "d5496cd5-60a8-40cc-bf39-5f1ca854490e"
      },
      "execution_count": 25,
      "outputs": [
        {
          "output_type": "display_data",
          "data": {
            "text/plain": [
              "<Figure size 800x600 with 2 Axes>"
            ],
            "image/png": "[encoded data removed]"
          },
          "metadata": {}
        }
      ]
    },
    {
      "cell_type": "code",
      "source": [
        "from sklearn.metrics import balanced_accuracy_score\n",
        "\n",
        "balanced_acc = balanced_accuracy_score(y_test_classes, y_pred_classes)\n",
        "print(f\"Balanced Accuracy: {balanced_acc}\")"
      ],
      "metadata": {
        "colab": {
          "base_uri": "https://localhost:8080/"
        },
        "id": "q3OE8nZR3fsT",
        "outputId": "f1315ad5-a060-48d0-9c86-e51276519ea0"
      },
      "execution_count": 24,
      "outputs": [
        {
          "output_type": "stream",
          "name": "stdout",
          "text": [
            "Balanced Accuracy: 0.9910983731644222\n"
          ]
        }
      ]
    },
    {
      "cell_type": "code",
      "source": [
        "# Simpan model\n",
        "print(\"\\nMenyimpan model...\")\n",
        "model.save('model.keras')"
      ],
      "metadata": {
        "colab": {
          "base_uri": "https://localhost:8080/"
        },
        "id": "akjNB_5J3lZ_",
        "outputId": "4be15178-873f-4478-b58a-456efc6d74ab"
      },
      "execution_count": 26,
      "outputs": [
        {
          "output_type": "stream",
          "name": "stdout",
          "text": [
            "\n",
            "Menyimpan model...\n"
          ]
        }
      ]
    },
    {
      "cell_type": "code",
      "source": [
        "import pickle\n",
        "\n",
        "# Simpan history ke file\n",
        "with open('history.pkl', 'wb') as file_pi:\n",
        "    pickle.dump(history.history, file_pi)"
      ],
      "metadata": {
        "id": "U1NeHoq73q-Y"
      },
      "execution_count": 27,
      "outputs": []
    },
    {
      "cell_type": "code",
      "source": [
        "# Simpan label encoder\n",
        "import joblib\n",
        "joblib.dump(le, 'label_encoder.joblib')\n",
        "joblib.dump(scaler, 'scaler.joblib')\n",
        "joblib.dump(imputer, 'imputer.joblib')"
      ],
      "metadata": {
        "colab": {
          "base_uri": "https://localhost:8080/"
        },
        "id": "j69ZgE9g3wQu",
        "outputId": "4ddd01b4-4ec5-4b95-9bc2-f8931fb06235"
      },
      "execution_count": 28,
      "outputs": [
        {
          "output_type": "execute_result",
          "data": {
            "text/plain": [
              "['imputer.joblib']"
            ]
          },
          "metadata": {},
          "execution_count": 28
        }
      ]
    },
    {
      "cell_type": "code",
      "source": [],
      "metadata": {
        "id": "iwuHnbLT8RdO"
      },
      "execution_count": null,
      "outputs": []
    }
  ]
}